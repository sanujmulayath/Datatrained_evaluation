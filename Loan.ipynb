{
 "cells": [
  {
   "cell_type": "code",
   "execution_count": 3,
   "id": "abstract-vegetarian",
   "metadata": {},
   "outputs": [],
   "source": [
    "import pandas as pd\n",
    "import numpy as np\n",
    "import matplotlib.pyplot as plt\n",
    "import seaborn as sns\n",
    "import warnings\n",
    "import joblib\n",
    "\n",
    "warnings.filterwarnings('ignore')\n"
   ]
  },
  {
   "cell_type": "code",
   "execution_count": 4,
   "id": "reserved-substance",
   "metadata": {},
   "outputs": [],
   "source": [
    "df=pd.read_csv('loan.csv')"
   ]
  },
  {
   "cell_type": "code",
   "execution_count": 5,
   "id": "conditional-shaft",
   "metadata": {},
   "outputs": [
    {
     "data": {
      "text/html": [
       "<div>\n",
       "<style scoped>\n",
       "    .dataframe tbody tr th:only-of-type {\n",
       "        vertical-align: middle;\n",
       "    }\n",
       "\n",
       "    .dataframe tbody tr th {\n",
       "        vertical-align: top;\n",
       "    }\n",
       "\n",
       "    .dataframe thead th {\n",
       "        text-align: right;\n",
       "    }\n",
       "</style>\n",
       "<table border=\"1\" class=\"dataframe\">\n",
       "  <thead>\n",
       "    <tr style=\"text-align: right;\">\n",
       "      <th></th>\n",
       "      <th>Loan_ID</th>\n",
       "      <th>Gender</th>\n",
       "      <th>Married</th>\n",
       "      <th>Dependents</th>\n",
       "      <th>Education</th>\n",
       "      <th>Self_Employed</th>\n",
       "      <th>ApplicantIncome</th>\n",
       "      <th>CoapplicantIncome</th>\n",
       "      <th>LoanAmount</th>\n",
       "      <th>Loan_Amount_Term</th>\n",
       "      <th>Credit_History</th>\n",
       "      <th>Property_Area</th>\n",
       "      <th>Loan_Status</th>\n",
       "    </tr>\n",
       "  </thead>\n",
       "  <tbody>\n",
       "    <tr>\n",
       "      <th>0</th>\n",
       "      <td>LP001002</td>\n",
       "      <td>Male</td>\n",
       "      <td>No</td>\n",
       "      <td>0</td>\n",
       "      <td>Graduate</td>\n",
       "      <td>No</td>\n",
       "      <td>5849</td>\n",
       "      <td>0.0</td>\n",
       "      <td>NaN</td>\n",
       "      <td>360.0</td>\n",
       "      <td>1.0</td>\n",
       "      <td>Urban</td>\n",
       "      <td>Y</td>\n",
       "    </tr>\n",
       "    <tr>\n",
       "      <th>1</th>\n",
       "      <td>LP001003</td>\n",
       "      <td>Male</td>\n",
       "      <td>Yes</td>\n",
       "      <td>1</td>\n",
       "      <td>Graduate</td>\n",
       "      <td>No</td>\n",
       "      <td>4583</td>\n",
       "      <td>1508.0</td>\n",
       "      <td>128.0</td>\n",
       "      <td>360.0</td>\n",
       "      <td>1.0</td>\n",
       "      <td>Rural</td>\n",
       "      <td>N</td>\n",
       "    </tr>\n",
       "    <tr>\n",
       "      <th>2</th>\n",
       "      <td>LP001005</td>\n",
       "      <td>Male</td>\n",
       "      <td>Yes</td>\n",
       "      <td>0</td>\n",
       "      <td>Graduate</td>\n",
       "      <td>Yes</td>\n",
       "      <td>3000</td>\n",
       "      <td>0.0</td>\n",
       "      <td>66.0</td>\n",
       "      <td>360.0</td>\n",
       "      <td>1.0</td>\n",
       "      <td>Urban</td>\n",
       "      <td>Y</td>\n",
       "    </tr>\n",
       "    <tr>\n",
       "      <th>3</th>\n",
       "      <td>LP001006</td>\n",
       "      <td>Male</td>\n",
       "      <td>Yes</td>\n",
       "      <td>0</td>\n",
       "      <td>Not Graduate</td>\n",
       "      <td>No</td>\n",
       "      <td>2583</td>\n",
       "      <td>2358.0</td>\n",
       "      <td>120.0</td>\n",
       "      <td>360.0</td>\n",
       "      <td>1.0</td>\n",
       "      <td>Urban</td>\n",
       "      <td>Y</td>\n",
       "    </tr>\n",
       "    <tr>\n",
       "      <th>4</th>\n",
       "      <td>LP001008</td>\n",
       "      <td>Male</td>\n",
       "      <td>No</td>\n",
       "      <td>0</td>\n",
       "      <td>Graduate</td>\n",
       "      <td>No</td>\n",
       "      <td>6000</td>\n",
       "      <td>0.0</td>\n",
       "      <td>141.0</td>\n",
       "      <td>360.0</td>\n",
       "      <td>1.0</td>\n",
       "      <td>Urban</td>\n",
       "      <td>Y</td>\n",
       "    </tr>\n",
       "    <tr>\n",
       "      <th>...</th>\n",
       "      <td>...</td>\n",
       "      <td>...</td>\n",
       "      <td>...</td>\n",
       "      <td>...</td>\n",
       "      <td>...</td>\n",
       "      <td>...</td>\n",
       "      <td>...</td>\n",
       "      <td>...</td>\n",
       "      <td>...</td>\n",
       "      <td>...</td>\n",
       "      <td>...</td>\n",
       "      <td>...</td>\n",
       "      <td>...</td>\n",
       "    </tr>\n",
       "    <tr>\n",
       "      <th>609</th>\n",
       "      <td>LP002978</td>\n",
       "      <td>Female</td>\n",
       "      <td>No</td>\n",
       "      <td>0</td>\n",
       "      <td>Graduate</td>\n",
       "      <td>No</td>\n",
       "      <td>2900</td>\n",
       "      <td>0.0</td>\n",
       "      <td>71.0</td>\n",
       "      <td>360.0</td>\n",
       "      <td>1.0</td>\n",
       "      <td>Rural</td>\n",
       "      <td>Y</td>\n",
       "    </tr>\n",
       "    <tr>\n",
       "      <th>610</th>\n",
       "      <td>LP002979</td>\n",
       "      <td>Male</td>\n",
       "      <td>Yes</td>\n",
       "      <td>3+</td>\n",
       "      <td>Graduate</td>\n",
       "      <td>No</td>\n",
       "      <td>4106</td>\n",
       "      <td>0.0</td>\n",
       "      <td>40.0</td>\n",
       "      <td>180.0</td>\n",
       "      <td>1.0</td>\n",
       "      <td>Rural</td>\n",
       "      <td>Y</td>\n",
       "    </tr>\n",
       "    <tr>\n",
       "      <th>611</th>\n",
       "      <td>LP002983</td>\n",
       "      <td>Male</td>\n",
       "      <td>Yes</td>\n",
       "      <td>1</td>\n",
       "      <td>Graduate</td>\n",
       "      <td>No</td>\n",
       "      <td>8072</td>\n",
       "      <td>240.0</td>\n",
       "      <td>253.0</td>\n",
       "      <td>360.0</td>\n",
       "      <td>1.0</td>\n",
       "      <td>Urban</td>\n",
       "      <td>Y</td>\n",
       "    </tr>\n",
       "    <tr>\n",
       "      <th>612</th>\n",
       "      <td>LP002984</td>\n",
       "      <td>Male</td>\n",
       "      <td>Yes</td>\n",
       "      <td>2</td>\n",
       "      <td>Graduate</td>\n",
       "      <td>No</td>\n",
       "      <td>7583</td>\n",
       "      <td>0.0</td>\n",
       "      <td>187.0</td>\n",
       "      <td>360.0</td>\n",
       "      <td>1.0</td>\n",
       "      <td>Urban</td>\n",
       "      <td>Y</td>\n",
       "    </tr>\n",
       "    <tr>\n",
       "      <th>613</th>\n",
       "      <td>LP002990</td>\n",
       "      <td>Female</td>\n",
       "      <td>No</td>\n",
       "      <td>0</td>\n",
       "      <td>Graduate</td>\n",
       "      <td>Yes</td>\n",
       "      <td>4583</td>\n",
       "      <td>0.0</td>\n",
       "      <td>133.0</td>\n",
       "      <td>360.0</td>\n",
       "      <td>0.0</td>\n",
       "      <td>Semiurban</td>\n",
       "      <td>N</td>\n",
       "    </tr>\n",
       "  </tbody>\n",
       "</table>\n",
       "<p>614 rows × 13 columns</p>\n",
       "</div>"
      ],
      "text/plain": [
       "      Loan_ID  Gender Married Dependents     Education Self_Employed  \\\n",
       "0    LP001002    Male      No          0      Graduate            No   \n",
       "1    LP001003    Male     Yes          1      Graduate            No   \n",
       "2    LP001005    Male     Yes          0      Graduate           Yes   \n",
       "3    LP001006    Male     Yes          0  Not Graduate            No   \n",
       "4    LP001008    Male      No          0      Graduate            No   \n",
       "..        ...     ...     ...        ...           ...           ...   \n",
       "609  LP002978  Female      No          0      Graduate            No   \n",
       "610  LP002979    Male     Yes         3+      Graduate            No   \n",
       "611  LP002983    Male     Yes          1      Graduate            No   \n",
       "612  LP002984    Male     Yes          2      Graduate            No   \n",
       "613  LP002990  Female      No          0      Graduate           Yes   \n",
       "\n",
       "     ApplicantIncome  CoapplicantIncome  LoanAmount  Loan_Amount_Term  \\\n",
       "0               5849                0.0         NaN             360.0   \n",
       "1               4583             1508.0       128.0             360.0   \n",
       "2               3000                0.0        66.0             360.0   \n",
       "3               2583             2358.0       120.0             360.0   \n",
       "4               6000                0.0       141.0             360.0   \n",
       "..               ...                ...         ...               ...   \n",
       "609             2900                0.0        71.0             360.0   \n",
       "610             4106                0.0        40.0             180.0   \n",
       "611             8072              240.0       253.0             360.0   \n",
       "612             7583                0.0       187.0             360.0   \n",
       "613             4583                0.0       133.0             360.0   \n",
       "\n",
       "     Credit_History Property_Area Loan_Status  \n",
       "0               1.0         Urban           Y  \n",
       "1               1.0         Rural           N  \n",
       "2               1.0         Urban           Y  \n",
       "3               1.0         Urban           Y  \n",
       "4               1.0         Urban           Y  \n",
       "..              ...           ...         ...  \n",
       "609             1.0         Rural           Y  \n",
       "610             1.0         Rural           Y  \n",
       "611             1.0         Urban           Y  \n",
       "612             1.0         Urban           Y  \n",
       "613             0.0     Semiurban           N  \n",
       "\n",
       "[614 rows x 13 columns]"
      ]
     },
     "execution_count": 5,
     "metadata": {},
     "output_type": "execute_result"
    }
   ],
   "source": [
    "df"
   ]
  },
  {
   "cell_type": "markdown",
   "id": "built-bhutan",
   "metadata": {},
   "source": [
    "We have 614 rows and 13 columns, we need to analyse the daata before we jump into any other process hence have to go through dtypes, unique values and other details to sort them out."
   ]
  },
  {
   "cell_type": "code",
   "execution_count": 6,
   "id": "native-florence",
   "metadata": {},
   "outputs": [
    {
     "data": {
      "text/html": [
       "<div>\n",
       "<style scoped>\n",
       "    .dataframe tbody tr th:only-of-type {\n",
       "        vertical-align: middle;\n",
       "    }\n",
       "\n",
       "    .dataframe tbody tr th {\n",
       "        vertical-align: top;\n",
       "    }\n",
       "\n",
       "    .dataframe thead th {\n",
       "        text-align: right;\n",
       "    }\n",
       "</style>\n",
       "<table border=\"1\" class=\"dataframe\">\n",
       "  <thead>\n",
       "    <tr style=\"text-align: right;\">\n",
       "      <th></th>\n",
       "      <th>Loan_ID</th>\n",
       "      <th>Gender</th>\n",
       "      <th>Married</th>\n",
       "      <th>Dependents</th>\n",
       "      <th>Education</th>\n",
       "      <th>Self_Employed</th>\n",
       "      <th>ApplicantIncome</th>\n",
       "      <th>CoapplicantIncome</th>\n",
       "      <th>LoanAmount</th>\n",
       "      <th>Loan_Amount_Term</th>\n",
       "      <th>Credit_History</th>\n",
       "      <th>Property_Area</th>\n",
       "      <th>Loan_Status</th>\n",
       "    </tr>\n",
       "  </thead>\n",
       "  <tbody>\n",
       "    <tr>\n",
       "      <th>0</th>\n",
       "      <td>LP001002</td>\n",
       "      <td>Male</td>\n",
       "      <td>No</td>\n",
       "      <td>0</td>\n",
       "      <td>Graduate</td>\n",
       "      <td>No</td>\n",
       "      <td>5849</td>\n",
       "      <td>0.0</td>\n",
       "      <td>NaN</td>\n",
       "      <td>360.0</td>\n",
       "      <td>1.0</td>\n",
       "      <td>Urban</td>\n",
       "      <td>Y</td>\n",
       "    </tr>\n",
       "    <tr>\n",
       "      <th>1</th>\n",
       "      <td>LP001003</td>\n",
       "      <td>Male</td>\n",
       "      <td>Yes</td>\n",
       "      <td>1</td>\n",
       "      <td>Graduate</td>\n",
       "      <td>No</td>\n",
       "      <td>4583</td>\n",
       "      <td>1508.0</td>\n",
       "      <td>128.0</td>\n",
       "      <td>360.0</td>\n",
       "      <td>1.0</td>\n",
       "      <td>Rural</td>\n",
       "      <td>N</td>\n",
       "    </tr>\n",
       "    <tr>\n",
       "      <th>2</th>\n",
       "      <td>LP001005</td>\n",
       "      <td>Male</td>\n",
       "      <td>Yes</td>\n",
       "      <td>0</td>\n",
       "      <td>Graduate</td>\n",
       "      <td>Yes</td>\n",
       "      <td>3000</td>\n",
       "      <td>0.0</td>\n",
       "      <td>66.0</td>\n",
       "      <td>360.0</td>\n",
       "      <td>1.0</td>\n",
       "      <td>Urban</td>\n",
       "      <td>Y</td>\n",
       "    </tr>\n",
       "    <tr>\n",
       "      <th>3</th>\n",
       "      <td>LP001006</td>\n",
       "      <td>Male</td>\n",
       "      <td>Yes</td>\n",
       "      <td>0</td>\n",
       "      <td>Not Graduate</td>\n",
       "      <td>No</td>\n",
       "      <td>2583</td>\n",
       "      <td>2358.0</td>\n",
       "      <td>120.0</td>\n",
       "      <td>360.0</td>\n",
       "      <td>1.0</td>\n",
       "      <td>Urban</td>\n",
       "      <td>Y</td>\n",
       "    </tr>\n",
       "    <tr>\n",
       "      <th>4</th>\n",
       "      <td>LP001008</td>\n",
       "      <td>Male</td>\n",
       "      <td>No</td>\n",
       "      <td>0</td>\n",
       "      <td>Graduate</td>\n",
       "      <td>No</td>\n",
       "      <td>6000</td>\n",
       "      <td>0.0</td>\n",
       "      <td>141.0</td>\n",
       "      <td>360.0</td>\n",
       "      <td>1.0</td>\n",
       "      <td>Urban</td>\n",
       "      <td>Y</td>\n",
       "    </tr>\n",
       "  </tbody>\n",
       "</table>\n",
       "</div>"
      ],
      "text/plain": [
       "    Loan_ID Gender Married Dependents     Education Self_Employed  \\\n",
       "0  LP001002   Male      No          0      Graduate            No   \n",
       "1  LP001003   Male     Yes          1      Graduate            No   \n",
       "2  LP001005   Male     Yes          0      Graduate           Yes   \n",
       "3  LP001006   Male     Yes          0  Not Graduate            No   \n",
       "4  LP001008   Male      No          0      Graduate            No   \n",
       "\n",
       "   ApplicantIncome  CoapplicantIncome  LoanAmount  Loan_Amount_Term  \\\n",
       "0             5849                0.0         NaN             360.0   \n",
       "1             4583             1508.0       128.0             360.0   \n",
       "2             3000                0.0        66.0             360.0   \n",
       "3             2583             2358.0       120.0             360.0   \n",
       "4             6000                0.0       141.0             360.0   \n",
       "\n",
       "   Credit_History Property_Area Loan_Status  \n",
       "0             1.0         Urban           Y  \n",
       "1             1.0         Rural           N  \n",
       "2             1.0         Urban           Y  \n",
       "3             1.0         Urban           Y  \n",
       "4             1.0         Urban           Y  "
      ]
     },
     "execution_count": 6,
     "metadata": {},
     "output_type": "execute_result"
    }
   ],
   "source": [
    "df.head()"
   ]
  },
  {
   "cell_type": "code",
   "execution_count": 7,
   "id": "refined-bleeding",
   "metadata": {},
   "outputs": [
    {
     "data": {
      "text/plain": [
       "Loan_ID               object\n",
       "Gender                object\n",
       "Married               object\n",
       "Dependents            object\n",
       "Education             object\n",
       "Self_Employed         object\n",
       "ApplicantIncome        int64\n",
       "CoapplicantIncome    float64\n",
       "LoanAmount           float64\n",
       "Loan_Amount_Term     float64\n",
       "Credit_History       float64\n",
       "Property_Area         object\n",
       "Loan_Status           object\n",
       "dtype: object"
      ]
     },
     "execution_count": 7,
     "metadata": {},
     "output_type": "execute_result"
    }
   ],
   "source": [
    "df.dtypes"
   ]
  },
  {
   "cell_type": "markdown",
   "id": "bored-submission",
   "metadata": {},
   "source": [
    "We have 5 columns which are numeric and others are object variables."
   ]
  },
  {
   "cell_type": "code",
   "execution_count": 8,
   "id": "medical-stability",
   "metadata": {},
   "outputs": [
    {
     "data": {
      "text/plain": [
       "Loan_ID              614\n",
       "Gender                 2\n",
       "Married                2\n",
       "Dependents             4\n",
       "Education              2\n",
       "Self_Employed          2\n",
       "ApplicantIncome      505\n",
       "CoapplicantIncome    287\n",
       "LoanAmount           203\n",
       "Loan_Amount_Term      10\n",
       "Credit_History         2\n",
       "Property_Area          3\n",
       "Loan_Status            2\n",
       "dtype: int64"
      ]
     },
     "execution_count": 8,
     "metadata": {},
     "output_type": "execute_result"
    }
   ],
   "source": [
    "df.nunique()"
   ]
  },
  {
   "cell_type": "markdown",
   "id": "extreme-brass",
   "metadata": {},
   "source": [
    "We have a column Loan ID in which every column is having a different value and hence will not contribute much to the data. we will remove that column."
   ]
  },
  {
   "cell_type": "code",
   "execution_count": 9,
   "id": "smooth-decision",
   "metadata": {},
   "outputs": [],
   "source": [
    "df=df.drop(columns='Loan_ID')"
   ]
  },
  {
   "cell_type": "code",
   "execution_count": 10,
   "id": "classical-venue",
   "metadata": {},
   "outputs": [
    {
     "data": {
      "text/html": [
       "<div>\n",
       "<style scoped>\n",
       "    .dataframe tbody tr th:only-of-type {\n",
       "        vertical-align: middle;\n",
       "    }\n",
       "\n",
       "    .dataframe tbody tr th {\n",
       "        vertical-align: top;\n",
       "    }\n",
       "\n",
       "    .dataframe thead th {\n",
       "        text-align: right;\n",
       "    }\n",
       "</style>\n",
       "<table border=\"1\" class=\"dataframe\">\n",
       "  <thead>\n",
       "    <tr style=\"text-align: right;\">\n",
       "      <th></th>\n",
       "      <th>Gender</th>\n",
       "      <th>Married</th>\n",
       "      <th>Dependents</th>\n",
       "      <th>Education</th>\n",
       "      <th>Self_Employed</th>\n",
       "      <th>ApplicantIncome</th>\n",
       "      <th>CoapplicantIncome</th>\n",
       "      <th>LoanAmount</th>\n",
       "      <th>Loan_Amount_Term</th>\n",
       "      <th>Credit_History</th>\n",
       "      <th>Property_Area</th>\n",
       "      <th>Loan_Status</th>\n",
       "    </tr>\n",
       "  </thead>\n",
       "  <tbody>\n",
       "    <tr>\n",
       "      <th>0</th>\n",
       "      <td>Male</td>\n",
       "      <td>No</td>\n",
       "      <td>0</td>\n",
       "      <td>Graduate</td>\n",
       "      <td>No</td>\n",
       "      <td>5849</td>\n",
       "      <td>0.0</td>\n",
       "      <td>NaN</td>\n",
       "      <td>360.0</td>\n",
       "      <td>1.0</td>\n",
       "      <td>Urban</td>\n",
       "      <td>Y</td>\n",
       "    </tr>\n",
       "    <tr>\n",
       "      <th>1</th>\n",
       "      <td>Male</td>\n",
       "      <td>Yes</td>\n",
       "      <td>1</td>\n",
       "      <td>Graduate</td>\n",
       "      <td>No</td>\n",
       "      <td>4583</td>\n",
       "      <td>1508.0</td>\n",
       "      <td>128.0</td>\n",
       "      <td>360.0</td>\n",
       "      <td>1.0</td>\n",
       "      <td>Rural</td>\n",
       "      <td>N</td>\n",
       "    </tr>\n",
       "    <tr>\n",
       "      <th>2</th>\n",
       "      <td>Male</td>\n",
       "      <td>Yes</td>\n",
       "      <td>0</td>\n",
       "      <td>Graduate</td>\n",
       "      <td>Yes</td>\n",
       "      <td>3000</td>\n",
       "      <td>0.0</td>\n",
       "      <td>66.0</td>\n",
       "      <td>360.0</td>\n",
       "      <td>1.0</td>\n",
       "      <td>Urban</td>\n",
       "      <td>Y</td>\n",
       "    </tr>\n",
       "    <tr>\n",
       "      <th>3</th>\n",
       "      <td>Male</td>\n",
       "      <td>Yes</td>\n",
       "      <td>0</td>\n",
       "      <td>Not Graduate</td>\n",
       "      <td>No</td>\n",
       "      <td>2583</td>\n",
       "      <td>2358.0</td>\n",
       "      <td>120.0</td>\n",
       "      <td>360.0</td>\n",
       "      <td>1.0</td>\n",
       "      <td>Urban</td>\n",
       "      <td>Y</td>\n",
       "    </tr>\n",
       "    <tr>\n",
       "      <th>4</th>\n",
       "      <td>Male</td>\n",
       "      <td>No</td>\n",
       "      <td>0</td>\n",
       "      <td>Graduate</td>\n",
       "      <td>No</td>\n",
       "      <td>6000</td>\n",
       "      <td>0.0</td>\n",
       "      <td>141.0</td>\n",
       "      <td>360.0</td>\n",
       "      <td>1.0</td>\n",
       "      <td>Urban</td>\n",
       "      <td>Y</td>\n",
       "    </tr>\n",
       "  </tbody>\n",
       "</table>\n",
       "</div>"
      ],
      "text/plain": [
       "  Gender Married Dependents     Education Self_Employed  ApplicantIncome  \\\n",
       "0   Male      No          0      Graduate            No             5849   \n",
       "1   Male     Yes          1      Graduate            No             4583   \n",
       "2   Male     Yes          0      Graduate           Yes             3000   \n",
       "3   Male     Yes          0  Not Graduate            No             2583   \n",
       "4   Male      No          0      Graduate            No             6000   \n",
       "\n",
       "   CoapplicantIncome  LoanAmount  Loan_Amount_Term  Credit_History  \\\n",
       "0                0.0         NaN             360.0             1.0   \n",
       "1             1508.0       128.0             360.0             1.0   \n",
       "2                0.0        66.0             360.0             1.0   \n",
       "3             2358.0       120.0             360.0             1.0   \n",
       "4                0.0       141.0             360.0             1.0   \n",
       "\n",
       "  Property_Area Loan_Status  \n",
       "0         Urban           Y  \n",
       "1         Rural           N  \n",
       "2         Urban           Y  \n",
       "3         Urban           Y  \n",
       "4         Urban           Y  "
      ]
     },
     "execution_count": 10,
     "metadata": {},
     "output_type": "execute_result"
    }
   ],
   "source": [
    "df.head()"
   ]
  },
  {
   "cell_type": "markdown",
   "id": "sustained-jones",
   "metadata": {},
   "source": [
    "Now we caan define each column based on initial check that we make."
   ]
  },
  {
   "cell_type": "markdown",
   "id": "unsigned-bronze",
   "metadata": {},
   "source": [
    "1. Gender - Whether the person who has applied is male or female.\n",
    "\n",
    "2. Married - Whether the person is married or not.\n",
    "\n",
    "3. Dependents - How many dependents does the users have?\n",
    "\n",
    "4. Education - The level of education that any person is having.\n",
    "\n",
    "5. Self_Employed - Whether the running a business or not.\n",
    "\n",
    "6. ApplicantIncome - What is the income that the person draws assuming the income to be monthly.\n",
    "\n",
    "7. CoApplicantIncome - The income of the person who is the nominee or the guaranteer of the person applying for a loan.\n",
    "\n",
    "8. Loan amount - The amount of loan.\n",
    "\n",
    "9. Loan term - The duration of the loan.\n",
    "\n",
    "10. credit history - the history of previous transactions.\n",
    "\n",
    "11. Property Area - Whether the person lives in urban rural or others.\n",
    "\n",
    "12. Loan status - whether the person has got loan or not."
   ]
  },
  {
   "cell_type": "markdown",
   "id": "little-julian",
   "metadata": {},
   "source": [
    "Checking the number of null values"
   ]
  },
  {
   "cell_type": "code",
   "execution_count": 11,
   "id": "eastern-sitting",
   "metadata": {},
   "outputs": [
    {
     "data": {
      "text/plain": [
       "Gender               13\n",
       "Married               3\n",
       "Dependents           15\n",
       "Education             0\n",
       "Self_Employed        32\n",
       "ApplicantIncome       0\n",
       "CoapplicantIncome     0\n",
       "LoanAmount           22\n",
       "Loan_Amount_Term     14\n",
       "Credit_History       50\n",
       "Property_Area         0\n",
       "Loan_Status           0\n",
       "dtype: int64"
      ]
     },
     "execution_count": 11,
     "metadata": {},
     "output_type": "execute_result"
    }
   ],
   "source": [
    "df.isna().sum()"
   ]
  },
  {
   "cell_type": "markdown",
   "id": "alpha-folder",
   "metadata": {},
   "source": [
    "In credit history, we have 50 values, in Loan amount term 14, 22 in Loam amount, 32 in Self employed and 15 3 and 13 in Dependents, married and Gender respectively, we will have to treat them to make sure that we are having a clean data."
   ]
  },
  {
   "cell_type": "markdown",
   "id": "cathedral-printer",
   "metadata": {},
   "source": [
    "Let us try to see if all the null values are in same columns or different"
   ]
  },
  {
   "cell_type": "code",
   "execution_count": 12,
   "id": "developing-gospel",
   "metadata": {},
   "outputs": [
    {
     "data": {
      "text/plain": [
       "<AxesSubplot:>"
      ]
     },
     "execution_count": 12,
     "metadata": {},
     "output_type": "execute_result"
    },
    {
     "data": {
      "image/png": "[encoded data removed]",
      "text/plain": [
       "<Figure size 720x720 with 2 Axes>"
      ]
     },
     "metadata": {
      "needs_background": "light"
     },
     "output_type": "display_data"
    }
   ],
   "source": [
    "plt.figure(figsize=(10,10))\n",
    "sns.heatmap(df.isna())"
   ]
  },
  {
   "cell_type": "markdown",
   "id": "regulated-cornell",
   "metadata": {},
   "source": [
    "As there are many variables that is in null, if we try to remove the data, there is a possibility that the loss is more, hence considering to impute all the columns."
   ]
  },
  {
   "cell_type": "markdown",
   "id": "lesser-british",
   "metadata": {},
   "source": [
    "Imputing the data's at this stage might give us an incorrect data for visualisation hence let us first visualise the data and then we will move ahead with the imputation and ecoding part just before modelling stage."
   ]
  },
  {
   "cell_type": "markdown",
   "id": "oriental-conspiracy",
   "metadata": {},
   "source": [
    "Spliiting the data to categorical and numerical for better clarity."
   ]
  },
  {
   "cell_type": "code",
   "execution_count": 13,
   "id": "copyrighted-interaction",
   "metadata": {},
   "outputs": [],
   "source": [
    "cat=['Gender', 'Married', 'Dependents', 'Education', 'Self_Employed', 'Property_Area','Credit_History','Loan_Amount_Term']\n",
    "num=['ApplicantIncome', 'CoapplicantIncome', 'LoanAmount']"
   ]
  },
  {
   "cell_type": "markdown",
   "id": "mysterious-journalism",
   "metadata": {},
   "source": [
    "Though Credit history is in numerical in the dtypes but when we see, it is actually a categorical variable as it is only having 0 and 1 as its types. hence considering the categorical and numerical variable based on basic analysis."
   ]
  },
  {
   "cell_type": "code",
   "execution_count": 14,
   "id": "endless-northwest",
   "metadata": {},
   "outputs": [
    {
     "name": "stdout",
     "output_type": "stream",
     "text": [
      "Male      489\n",
      "Female    112\n",
      "Name: Gender, dtype: int64\n"
     ]
    },
    {
     "data": {
      "image/png": "[encoded data removed]",
      "text/plain": [
       "<Figure size 720x360 with 1 Axes>"
      ]
     },
     "metadata": {
      "needs_background": "light"
     },
     "output_type": "display_data"
    },
    {
     "name": "stdout",
     "output_type": "stream",
     "text": [
      "Yes    398\n",
      "No     213\n",
      "Name: Married, dtype: int64\n"
     ]
    },
    {
     "data": {
      "image/png": "[encoded data removed]",
      "text/plain": [
       "<Figure size 720x360 with 1 Axes>"
      ]
     },
     "metadata": {
      "needs_background": "light"
     },
     "output_type": "display_data"
    },
    {
     "name": "stdout",
     "output_type": "stream",
     "text": [
      "0     345\n",
      "1     102\n",
      "2     101\n",
      "3+     51\n",
      "Name: Dependents, dtype: int64\n"
     ]
    },
    {
     "data": {
      "image/png": "[encoded data removed]",
      "text/plain": [
       "<Figure size 720x360 with 1 Axes>"
      ]
     },
     "metadata": {
      "needs_background": "light"
     },
     "output_type": "display_data"
    },
    {
     "name": "stdout",
     "output_type": "stream",
     "text": [
      "Graduate        480\n",
      "Not Graduate    134\n",
      "Name: Education, dtype: int64\n"
     ]
    },
    {
     "data": {
      "image/png": "[encoded data removed]",
      "text/plain": [
       "<Figure size 720x360 with 1 Axes>"
      ]
     },
     "metadata": {
      "needs_background": "light"
     },
     "output_type": "display_data"
    },
    {
     "name": "stdout",
     "output_type": "stream",
     "text": [
      "No     500\n",
      "Yes     82\n",
      "Name: Self_Employed, dtype: int64\n"
     ]
    },
    {
     "data": {
      "image/png": "[encoded data removed]",
      "text/plain": [
       "<Figure size 720x360 with 1 Axes>"
      ]
     },
     "metadata": {
      "needs_background": "light"
     },
     "output_type": "display_data"
    },
    {
     "name": "stdout",
     "output_type": "stream",
     "text": [
      "Semiurban    233\n",
      "Urban        202\n",
      "Rural        179\n",
      "Name: Property_Area, dtype: int64\n"
     ]
    },
    {
     "data": {
      "image/png": "[encoded data removed]",
      "text/plain": [
       "<Figure size 720x360 with 1 Axes>"
      ]
     },
     "metadata": {
      "needs_background": "light"
     },
     "output_type": "display_data"
    },
    {
     "name": "stdout",
     "output_type": "stream",
     "text": [
      "1.0    475\n",
      "0.0     89\n",
      "Name: Credit_History, dtype: int64\n"
     ]
    },
    {
     "data": {
      "image/png": "[encoded data removed]",
      "text/plain": [
       "<Figure size 720x360 with 1 Axes>"
      ]
     },
     "metadata": {
      "needs_background": "light"
     },
     "output_type": "display_data"
    },
    {
     "name": "stdout",
     "output_type": "stream",
     "text": [
      "360.0    512\n",
      "180.0     44\n",
      "480.0     15\n",
      "300.0     13\n",
      "84.0       4\n",
      "240.0      4\n",
      "120.0      3\n",
      "36.0       2\n",
      "60.0       2\n",
      "12.0       1\n",
      "Name: Loan_Amount_Term, dtype: int64\n"
     ]
    },
    {
     "data": {
      "image/png": "[encoded data removed]",
      "text/plain": [
       "<Figure size 720x360 with 1 Axes>"
      ]
     },
     "metadata": {
      "needs_background": "light"
     },
     "output_type": "display_data"
    }
   ],
   "source": [
    "for i in cat:\n",
    "    plt.figure(figsize=(10,5))\n",
    "    sns.countplot(x=i, hue='Loan_Status', data=df)\n",
    "    print(df[i].value_counts())\n",
    "    plt.show()"
   ]
  },
  {
   "cell_type": "markdown",
   "id": "olympic-agency",
   "metadata": {},
   "source": [
    "1. Comparing the genders, males have got loan than the females.\n",
    "\n",
    "2. The people who are married are tend to get loan than unmarried.\n",
    "\n",
    "3. The people having no dependants are more likely to get the loan.\n",
    "\n",
    "4. Mostly, Graduates gets the loan\n",
    "\n",
    "5. People who are not selfemployed tends to get loan compared to others.\n",
    "\n",
    "6. People in Semi urban tends to get loan.\n",
    "\n",
    "7. People having credit history ass 0 do not get much loan.\n",
    "\n",
    "8. With the increase in loan term, the chance to get loan increases.\n"
   ]
  },
  {
   "cell_type": "code",
   "execution_count": 15,
   "id": "dominican-return",
   "metadata": {},
   "outputs": [
    {
     "data": {
      "text/plain": [
       "Index(['Gender', 'Married', 'Dependents', 'Education', 'Self_Employed',\n",
       "       'ApplicantIncome', 'CoapplicantIncome', 'LoanAmount',\n",
       "       'Loan_Amount_Term', 'Credit_History', 'Property_Area', 'Loan_Status'],\n",
       "      dtype='object')"
      ]
     },
     "execution_count": 15,
     "metadata": {},
     "output_type": "execute_result"
    }
   ],
   "source": [
    "df.columns"
   ]
  },
  {
   "cell_type": "code",
   "execution_count": 16,
   "id": "flying-programmer",
   "metadata": {},
   "outputs": [
    {
     "data": {
      "image/png": "[encoded data removed]",
      "text/plain": [
       "<Figure size 720x432 with 1 Axes>"
      ]
     },
     "metadata": {
      "needs_background": "light"
     },
     "output_type": "display_data"
    }
   ],
   "source": [
    "plt.figure(figsize=(10,6))\n",
    "sns.scatterplot(data=df,x='Gender',y='ApplicantIncome',hue='Loan_Status')\n",
    "plt.show()"
   ]
  },
  {
   "cell_type": "markdown",
   "id": "reserved-bookmark",
   "metadata": {},
   "source": [
    "If the applicant income is 80K and they are male, there is a lesser possibility that the person gets a loan. and with the increment in the income for female we can see a trent where they gets the loan approved."
   ]
  },
  {
   "cell_type": "code",
   "execution_count": 17,
   "id": "senior-spirit",
   "metadata": {},
   "outputs": [
    {
     "data": {
      "image/png": "[encoded data removed]",
      "text/plain": [
       "<Figure size 720x432 with 1 Axes>"
      ]
     },
     "metadata": {
      "needs_background": "light"
     },
     "output_type": "display_data"
    }
   ],
   "source": [
    "plt.figure(figsize=(10,6))\n",
    "sns.scatterplot(data=df,x='Gender',y='LoanAmount',hue='Loan_Status')\n",
    "plt.show()"
   ]
  },
  {
   "cell_type": "markdown",
   "id": "timely-daily",
   "metadata": {},
   "source": [
    "This is evident that the number of loan application mostly comes from Male and less from female"
   ]
  },
  {
   "cell_type": "markdown",
   "id": "destroyed-ceiling",
   "metadata": {},
   "source": [
    "The number varies dependin on other factors which we will identify."
   ]
  },
  {
   "cell_type": "markdown",
   "id": "touched-humidity",
   "metadata": {},
   "source": [
    "Let us impute the loan_status column to get a better visualisation to work on catplot."
   ]
  },
  {
   "cell_type": "code",
   "execution_count": 18,
   "id": "lucky-record",
   "metadata": {},
   "outputs": [],
   "source": [
    "from sklearn.preprocessing import OrdinalEncoder"
   ]
  },
  {
   "cell_type": "code",
   "execution_count": 19,
   "id": "absent-heaven",
   "metadata": {},
   "outputs": [],
   "source": [
    "enc=OrdinalEncoder()\n",
    "df['Loan_Status']=enc.fit_transform(df['Loan_Status'].values.reshape(-1,1))"
   ]
  },
  {
   "cell_type": "code",
   "execution_count": 20,
   "id": "going-citizen",
   "metadata": {},
   "outputs": [
    {
     "data": {
      "text/html": [
       "<div>\n",
       "<style scoped>\n",
       "    .dataframe tbody tr th:only-of-type {\n",
       "        vertical-align: middle;\n",
       "    }\n",
       "\n",
       "    .dataframe tbody tr th {\n",
       "        vertical-align: top;\n",
       "    }\n",
       "\n",
       "    .dataframe thead th {\n",
       "        text-align: right;\n",
       "    }\n",
       "</style>\n",
       "<table border=\"1\" class=\"dataframe\">\n",
       "  <thead>\n",
       "    <tr style=\"text-align: right;\">\n",
       "      <th></th>\n",
       "      <th>Gender</th>\n",
       "      <th>Married</th>\n",
       "      <th>Dependents</th>\n",
       "      <th>Education</th>\n",
       "      <th>Self_Employed</th>\n",
       "      <th>ApplicantIncome</th>\n",
       "      <th>CoapplicantIncome</th>\n",
       "      <th>LoanAmount</th>\n",
       "      <th>Loan_Amount_Term</th>\n",
       "      <th>Credit_History</th>\n",
       "      <th>Property_Area</th>\n",
       "      <th>Loan_Status</th>\n",
       "    </tr>\n",
       "  </thead>\n",
       "  <tbody>\n",
       "    <tr>\n",
       "      <th>0</th>\n",
       "      <td>Male</td>\n",
       "      <td>No</td>\n",
       "      <td>0</td>\n",
       "      <td>Graduate</td>\n",
       "      <td>No</td>\n",
       "      <td>5849</td>\n",
       "      <td>0.0</td>\n",
       "      <td>NaN</td>\n",
       "      <td>360.0</td>\n",
       "      <td>1.0</td>\n",
       "      <td>Urban</td>\n",
       "      <td>1.0</td>\n",
       "    </tr>\n",
       "    <tr>\n",
       "      <th>1</th>\n",
       "      <td>Male</td>\n",
       "      <td>Yes</td>\n",
       "      <td>1</td>\n",
       "      <td>Graduate</td>\n",
       "      <td>No</td>\n",
       "      <td>4583</td>\n",
       "      <td>1508.0</td>\n",
       "      <td>128.0</td>\n",
       "      <td>360.0</td>\n",
       "      <td>1.0</td>\n",
       "      <td>Rural</td>\n",
       "      <td>0.0</td>\n",
       "    </tr>\n",
       "    <tr>\n",
       "      <th>2</th>\n",
       "      <td>Male</td>\n",
       "      <td>Yes</td>\n",
       "      <td>0</td>\n",
       "      <td>Graduate</td>\n",
       "      <td>Yes</td>\n",
       "      <td>3000</td>\n",
       "      <td>0.0</td>\n",
       "      <td>66.0</td>\n",
       "      <td>360.0</td>\n",
       "      <td>1.0</td>\n",
       "      <td>Urban</td>\n",
       "      <td>1.0</td>\n",
       "    </tr>\n",
       "    <tr>\n",
       "      <th>3</th>\n",
       "      <td>Male</td>\n",
       "      <td>Yes</td>\n",
       "      <td>0</td>\n",
       "      <td>Not Graduate</td>\n",
       "      <td>No</td>\n",
       "      <td>2583</td>\n",
       "      <td>2358.0</td>\n",
       "      <td>120.0</td>\n",
       "      <td>360.0</td>\n",
       "      <td>1.0</td>\n",
       "      <td>Urban</td>\n",
       "      <td>1.0</td>\n",
       "    </tr>\n",
       "    <tr>\n",
       "      <th>4</th>\n",
       "      <td>Male</td>\n",
       "      <td>No</td>\n",
       "      <td>0</td>\n",
       "      <td>Graduate</td>\n",
       "      <td>No</td>\n",
       "      <td>6000</td>\n",
       "      <td>0.0</td>\n",
       "      <td>141.0</td>\n",
       "      <td>360.0</td>\n",
       "      <td>1.0</td>\n",
       "      <td>Urban</td>\n",
       "      <td>1.0</td>\n",
       "    </tr>\n",
       "    <tr>\n",
       "      <th>...</th>\n",
       "      <td>...</td>\n",
       "      <td>...</td>\n",
       "      <td>...</td>\n",
       "      <td>...</td>\n",
       "      <td>...</td>\n",
       "      <td>...</td>\n",
       "      <td>...</td>\n",
       "      <td>...</td>\n",
       "      <td>...</td>\n",
       "      <td>...</td>\n",
       "      <td>...</td>\n",
       "      <td>...</td>\n",
       "    </tr>\n",
       "    <tr>\n",
       "      <th>609</th>\n",
       "      <td>Female</td>\n",
       "      <td>No</td>\n",
       "      <td>0</td>\n",
       "      <td>Graduate</td>\n",
       "      <td>No</td>\n",
       "      <td>2900</td>\n",
       "      <td>0.0</td>\n",
       "      <td>71.0</td>\n",
       "      <td>360.0</td>\n",
       "      <td>1.0</td>\n",
       "      <td>Rural</td>\n",
       "      <td>1.0</td>\n",
       "    </tr>\n",
       "    <tr>\n",
       "      <th>610</th>\n",
       "      <td>Male</td>\n",
       "      <td>Yes</td>\n",
       "      <td>3+</td>\n",
       "      <td>Graduate</td>\n",
       "      <td>No</td>\n",
       "      <td>4106</td>\n",
       "      <td>0.0</td>\n",
       "      <td>40.0</td>\n",
       "      <td>180.0</td>\n",
       "      <td>1.0</td>\n",
       "      <td>Rural</td>\n",
       "      <td>1.0</td>\n",
       "    </tr>\n",
       "    <tr>\n",
       "      <th>611</th>\n",
       "      <td>Male</td>\n",
       "      <td>Yes</td>\n",
       "      <td>1</td>\n",
       "      <td>Graduate</td>\n",
       "      <td>No</td>\n",
       "      <td>8072</td>\n",
       "      <td>240.0</td>\n",
       "      <td>253.0</td>\n",
       "      <td>360.0</td>\n",
       "      <td>1.0</td>\n",
       "      <td>Urban</td>\n",
       "      <td>1.0</td>\n",
       "    </tr>\n",
       "    <tr>\n",
       "      <th>612</th>\n",
       "      <td>Male</td>\n",
       "      <td>Yes</td>\n",
       "      <td>2</td>\n",
       "      <td>Graduate</td>\n",
       "      <td>No</td>\n",
       "      <td>7583</td>\n",
       "      <td>0.0</td>\n",
       "      <td>187.0</td>\n",
       "      <td>360.0</td>\n",
       "      <td>1.0</td>\n",
       "      <td>Urban</td>\n",
       "      <td>1.0</td>\n",
       "    </tr>\n",
       "    <tr>\n",
       "      <th>613</th>\n",
       "      <td>Female</td>\n",
       "      <td>No</td>\n",
       "      <td>0</td>\n",
       "      <td>Graduate</td>\n",
       "      <td>Yes</td>\n",
       "      <td>4583</td>\n",
       "      <td>0.0</td>\n",
       "      <td>133.0</td>\n",
       "      <td>360.0</td>\n",
       "      <td>0.0</td>\n",
       "      <td>Semiurban</td>\n",
       "      <td>0.0</td>\n",
       "    </tr>\n",
       "  </tbody>\n",
       "</table>\n",
       "<p>614 rows × 12 columns</p>\n",
       "</div>"
      ],
      "text/plain": [
       "     Gender Married Dependents     Education Self_Employed  ApplicantIncome  \\\n",
       "0      Male      No          0      Graduate            No             5849   \n",
       "1      Male     Yes          1      Graduate            No             4583   \n",
       "2      Male     Yes          0      Graduate           Yes             3000   \n",
       "3      Male     Yes          0  Not Graduate            No             2583   \n",
       "4      Male      No          0      Graduate            No             6000   \n",
       "..      ...     ...        ...           ...           ...              ...   \n",
       "609  Female      No          0      Graduate            No             2900   \n",
       "610    Male     Yes         3+      Graduate            No             4106   \n",
       "611    Male     Yes          1      Graduate            No             8072   \n",
       "612    Male     Yes          2      Graduate            No             7583   \n",
       "613  Female      No          0      Graduate           Yes             4583   \n",
       "\n",
       "     CoapplicantIncome  LoanAmount  Loan_Amount_Term  Credit_History  \\\n",
       "0                  0.0         NaN             360.0             1.0   \n",
       "1               1508.0       128.0             360.0             1.0   \n",
       "2                  0.0        66.0             360.0             1.0   \n",
       "3               2358.0       120.0             360.0             1.0   \n",
       "4                  0.0       141.0             360.0             1.0   \n",
       "..                 ...         ...               ...             ...   \n",
       "609                0.0        71.0             360.0             1.0   \n",
       "610                0.0        40.0             180.0             1.0   \n",
       "611              240.0       253.0             360.0             1.0   \n",
       "612                0.0       187.0             360.0             1.0   \n",
       "613                0.0       133.0             360.0             0.0   \n",
       "\n",
       "    Property_Area  Loan_Status  \n",
       "0           Urban          1.0  \n",
       "1           Rural          0.0  \n",
       "2           Urban          1.0  \n",
       "3           Urban          1.0  \n",
       "4           Urban          1.0  \n",
       "..            ...          ...  \n",
       "609         Rural          1.0  \n",
       "610         Rural          1.0  \n",
       "611         Urban          1.0  \n",
       "612         Urban          1.0  \n",
       "613     Semiurban          0.0  \n",
       "\n",
       "[614 rows x 12 columns]"
      ]
     },
     "execution_count": 20,
     "metadata": {},
     "output_type": "execute_result"
    }
   ],
   "source": [
    "df"
   ]
  },
  {
   "cell_type": "markdown",
   "id": "broken-discipline",
   "metadata": {},
   "source": [
    "Here, 1 is approved and 0 is not approved."
   ]
  },
  {
   "cell_type": "code",
   "execution_count": 21,
   "id": "secure-array",
   "metadata": {},
   "outputs": [
    {
     "data": {
      "text/plain": [
       "<seaborn.axisgrid.FacetGrid at 0x279e819d130>"
      ]
     },
     "execution_count": 21,
     "metadata": {},
     "output_type": "execute_result"
    },
    {
     "data": {
      "image/png": "[encoded data removed]",
      "text/plain": [
       "<Figure size 1183.38x360 with 3 Axes>"
      ]
     },
     "metadata": {
      "needs_background": "light"
     },
     "output_type": "display_data"
    }
   ],
   "source": [
    "sns.catplot(x='Married',y='Loan_Status',kind='bar',data=df,col='Property_Area',hue='Education')"
   ]
  },
  {
   "cell_type": "markdown",
   "id": "detailed-relevance",
   "metadata": {},
   "source": [
    "In Rural area - Married status doesn't make any difference in loan approval\n",
    "\n",
    "\n",
    "In other areas loan approval chances are more if you are married."
   ]
  },
  {
   "cell_type": "code",
   "execution_count": 22,
   "id": "greatest-winner",
   "metadata": {},
   "outputs": [
    {
     "data": {
      "text/plain": [
       "<AxesSubplot:xlabel='Married', ylabel='Loan_Status'>"
      ]
     },
     "execution_count": 22,
     "metadata": {},
     "output_type": "execute_result"
    },
    {
     "data": {
      "image/png": "[encoded data removed]",
      "text/plain": [
       "<Figure size 432x288 with 1 Axes>"
      ]
     },
     "metadata": {
      "needs_background": "light"
     },
     "output_type": "display_data"
    }
   ],
   "source": [
    "sns.violinplot(x='Married',y='Loan_Status',data=df)"
   ]
  },
  {
   "cell_type": "markdown",
   "id": "surprised-astrology",
   "metadata": {},
   "source": [
    "If you are married, you might get a loan compared to a bachelor."
   ]
  },
  {
   "cell_type": "code",
   "execution_count": 23,
   "id": "orange-camera",
   "metadata": {},
   "outputs": [
    {
     "data": {
      "text/plain": [
       "<seaborn.axisgrid.FacetGrid at 0x279e84e7f70>"
      ]
     },
     "execution_count": 23,
     "metadata": {},
     "output_type": "execute_result"
    },
    {
     "data": {
      "image/png": "[encoded data removed]",
      "text/plain": [
       "<Figure size 810.125x360 with 2 Axes>"
      ]
     },
     "metadata": {
      "needs_background": "light"
     },
     "output_type": "display_data"
    }
   ],
   "source": [
    "sns.catplot(x='Education',y='Loan_Status',kind='bar',data=df,col='Married',hue='Property_Area')"
   ]
  },
  {
   "cell_type": "markdown",
   "id": "cognitive-sport",
   "metadata": {},
   "source": [
    "If you live in Urban and are a non graduate and unmarried, chances are very less that you get a loan."
   ]
  },
  {
   "cell_type": "code",
   "execution_count": 24,
   "id": "structured-conclusion",
   "metadata": {},
   "outputs": [
    {
     "data": {
      "text/plain": [
       "<seaborn.axisgrid.FacetGrid at 0x279e85d4e20>"
      ]
     },
     "execution_count": 24,
     "metadata": {},
     "output_type": "execute_result"
    },
    {
     "data": {
      "image/png": "[encoded data removed]",
      "text/plain": [
       "<Figure size 360x360 with 1 Axes>"
      ]
     },
     "metadata": {
      "needs_background": "light"
     },
     "output_type": "display_data"
    }
   ],
   "source": [
    "sns.catplot(x='Education',y='Loan_Status',kind='violin',data=df)"
   ]
  },
  {
   "cell_type": "markdown",
   "id": "rotary-peace",
   "metadata": {},
   "source": [
    "If you are a graduate, you might get a higher chance to get a loan.\n"
   ]
  },
  {
   "cell_type": "code",
   "execution_count": 25,
   "id": "harmful-indicator",
   "metadata": {},
   "outputs": [
    {
     "data": {
      "text/plain": [
       "<seaborn.axisgrid.FacetGrid at 0x279e84ec9a0>"
      ]
     },
     "execution_count": 25,
     "metadata": {},
     "output_type": "execute_result"
    },
    {
     "data": {
      "image/png": "[encoded data removed]",
      "text/plain": [
       "<Figure size 360x360 with 1 Axes>"
      ]
     },
     "metadata": {
      "needs_background": "light"
     },
     "output_type": "display_data"
    }
   ],
   "source": [
    "sns.catplot(x='Gender',y='ApplicantIncome',data=df,kind='box')"
   ]
  },
  {
   "cell_type": "markdown",
   "id": "indirect-partnership",
   "metadata": {},
   "source": [
    "Income for male is higher than females who applies for a loan."
   ]
  },
  {
   "cell_type": "code",
   "execution_count": 26,
   "id": "injured-satin",
   "metadata": {},
   "outputs": [
    {
     "data": {
      "text/plain": [
       "<seaborn.axisgrid.FacetGrid at 0x279e8143e20>"
      ]
     },
     "execution_count": 26,
     "metadata": {},
     "output_type": "execute_result"
    },
    {
     "data": {
      "image/png": "[encoded data removed]",
      "text/plain": [
       "<Figure size 360x360 with 1 Axes>"
      ]
     },
     "metadata": {
      "needs_background": "light"
     },
     "output_type": "display_data"
    }
   ],
   "source": [
    "sns.catplot(x='Gender',y='CoapplicantIncome',data=df,kind='box')"
   ]
  },
  {
   "cell_type": "markdown",
   "id": "portable-directive",
   "metadata": {},
   "source": [
    "For coapplicant as well, the income is more for male comparitively."
   ]
  },
  {
   "cell_type": "code",
   "execution_count": 27,
   "id": "dimensional-printer",
   "metadata": {},
   "outputs": [
    {
     "data": {
      "text/plain": [
       "<seaborn.axisgrid.FacetGrid at 0x279e81438b0>"
      ]
     },
     "execution_count": 27,
     "metadata": {},
     "output_type": "execute_result"
    },
    {
     "data": {
      "image/png": "[encoded data removed]",
      "text/plain": [
       "<Figure size 1080x360 with 3 Axes>"
      ]
     },
     "metadata": {
      "needs_background": "light"
     },
     "output_type": "display_data"
    }
   ],
   "source": [
    "sns.catplot(x='Dependents',y='Loan_Status',kind='bar',data=df,col='Property_Area')"
   ]
  },
  {
   "cell_type": "markdown",
   "id": "thorough-mixture",
   "metadata": {},
   "source": [
    "In urban = if you have 2 dependants, there are chances that the loan gets approved compared to 0, 1 and 3+\n",
    "\n",
    "In Rural = if you have 3+ dependants, there are chances that the loan gets approved compared to 0, 1 and 2\n",
    "\n",
    "In SemiUrban = if you have 2 dependants, there are chances that the loan gets approved compared to 0, 1 and 3+\n",
    "\n",
    "Overall, having 2 kids makes you eligible for a loan."
   ]
  },
  {
   "cell_type": "code",
   "execution_count": 28,
   "id": "completed-shaft",
   "metadata": {},
   "outputs": [
    {
     "data": {
      "text/plain": [
       "<seaborn.axisgrid.FacetGrid at 0x279e86063d0>"
      ]
     },
     "execution_count": 28,
     "metadata": {},
     "output_type": "execute_result"
    },
    {
     "data": {
      "image/png": "[encoded data removed]",
      "text/plain": [
       "<Figure size 360x360 with 1 Axes>"
      ]
     },
     "metadata": {
      "needs_background": "light"
     },
     "output_type": "display_data"
    },
    {
     "data": {
      "image/png": "[encoded data removed]",
      "text/plain": [
       "<Figure size 360x360 with 1 Axes>"
      ]
     },
     "metadata": {
      "needs_background": "light"
     },
     "output_type": "display_data"
    }
   ],
   "source": [
    "sns.catplot(x='Education',y='Credit_History',kind='bar',data=df)\n",
    "sns.catplot(x='Credit_History',y='Loan_Status',kind='bar',data=df)"
   ]
  },
  {
   "cell_type": "markdown",
   "id": "powered-winning",
   "metadata": {},
   "source": [
    "If you are a graduate, the credit history is most likely to be 1.\n",
    "\n",
    "If the credit history is 1, you have a high chance to get the loan."
   ]
  },
  {
   "cell_type": "code",
   "execution_count": 29,
   "id": "joined-dealer",
   "metadata": {},
   "outputs": [
    {
     "data": {
      "text/plain": [
       "<seaborn.axisgrid.FacetGrid at 0x279e85e1c10>"
      ]
     },
     "execution_count": 29,
     "metadata": {},
     "output_type": "execute_result"
    },
    {
     "data": {
      "image/png": "[encoded data removed]",
      "text/plain": [
       "<Figure size 360x360 with 1 Axes>"
      ]
     },
     "metadata": {
      "needs_background": "light"
     },
     "output_type": "display_data"
    }
   ],
   "source": [
    "sns.catplot(x='Gender',y='LoanAmount',data=df,kind='box')"
   ]
  },
  {
   "cell_type": "markdown",
   "id": "developmental-capacity",
   "metadata": {},
   "source": [
    "Male tend to take more loan than Female"
   ]
  },
  {
   "cell_type": "code",
   "execution_count": 30,
   "id": "hollywood-myrtle",
   "metadata": {},
   "outputs": [
    {
     "data": {
      "text/plain": [
       "<seaborn.axisgrid.FacetGrid at 0x279e860c4c0>"
      ]
     },
     "execution_count": 30,
     "metadata": {},
     "output_type": "execute_result"
    },
    {
     "data": {
      "image/png": "[encoded data removed]",
      "text/plain": [
       "<Figure size 360x360 with 1 Axes>"
      ]
     },
     "metadata": {
      "needs_background": "light"
     },
     "output_type": "display_data"
    }
   ],
   "source": [
    "sns.catplot(x='Gender',y='LoanAmount',data=df,kind='box')"
   ]
  },
  {
   "cell_type": "markdown",
   "id": "rapid-detection",
   "metadata": {},
   "source": [
    "Loan amount for male is slightly higher."
   ]
  },
  {
   "cell_type": "markdown",
   "id": "known-gasoline",
   "metadata": {},
   "source": [
    "Moving ahead with imputation."
   ]
  },
  {
   "cell_type": "markdown",
   "id": "peripheral-fashion",
   "metadata": {},
   "source": [
    "Initially let us fill the values of na using fill na."
   ]
  },
  {
   "cell_type": "code",
   "execution_count": 31,
   "id": "deluxe-worthy",
   "metadata": {},
   "outputs": [
    {
     "data": {
      "text/plain": [
       "Gender               13\n",
       "Married               3\n",
       "Dependents           15\n",
       "Education             0\n",
       "Self_Employed        32\n",
       "ApplicantIncome       0\n",
       "CoapplicantIncome     0\n",
       "LoanAmount           22\n",
       "Loan_Amount_Term     14\n",
       "Credit_History       50\n",
       "Property_Area         0\n",
       "Loan_Status           0\n",
       "dtype: int64"
      ]
     },
     "execution_count": 31,
     "metadata": {},
     "output_type": "execute_result"
    }
   ],
   "source": [
    "df.isna().sum()"
   ]
  },
  {
   "cell_type": "code",
   "execution_count": 32,
   "id": "perceived-healthcare",
   "metadata": {},
   "outputs": [
    {
     "data": {
      "text/plain": [
       "Gender               13\n",
       "Married               3\n",
       "Dependents           15\n",
       "Education             0\n",
       "Self_Employed        32\n",
       "ApplicantIncome       0\n",
       "CoapplicantIncome     0\n",
       "LoanAmount           22\n",
       "Loan_Amount_Term     14\n",
       "Credit_History       50\n",
       "Property_Area         0\n",
       "Loan_Status           0\n",
       "dtype: int64"
      ]
     },
     "execution_count": 32,
     "metadata": {},
     "output_type": "execute_result"
    }
   ],
   "source": [
    "df.isnull().sum()"
   ]
  },
  {
   "cell_type": "code",
   "execution_count": 33,
   "id": "public-browse",
   "metadata": {},
   "outputs": [],
   "source": [
    "from sklearn.impute import SimpleImputer\n",
    "mode=SimpleImputer(missing_values=np.nan,strategy='most_frequent')\n",
    "df['Gender']=mode.fit_transform(df['Gender'].values.reshape(-1,1))\n",
    "df['Married']=mode.fit_transform(df['Married'].values.reshape(-1,1))\n",
    "df['Self_Employed']=mode.fit_transform(df['Self_Employed'].values.reshape(-1,1))\n",
    "df['Credit_History']=mode.fit_transform(df['Credit_History'].values.reshape(-1,1))\n",
    "df['Dependents']=mode.fit_transform(df['Dependents'].values.reshape(-1,1))\n",
    "df['Loan_Amount_Term']=mode.fit_transform(df['Loan_Amount_Term'].values.reshape(-1,1))\n",
    "df['LoanAmount']= df['LoanAmount'].fillna(np.mean(df['LoanAmount']))\n"
   ]
  },
  {
   "cell_type": "code",
   "execution_count": 34,
   "id": "legal-killer",
   "metadata": {},
   "outputs": [
    {
     "data": {
      "text/plain": [
       "Gender               0\n",
       "Married              0\n",
       "Dependents           0\n",
       "Education            0\n",
       "Self_Employed        0\n",
       "ApplicantIncome      0\n",
       "CoapplicantIncome    0\n",
       "LoanAmount           0\n",
       "Loan_Amount_Term     0\n",
       "Credit_History       0\n",
       "Property_Area        0\n",
       "Loan_Status          0\n",
       "dtype: int64"
      ]
     },
     "execution_count": 34,
     "metadata": {},
     "output_type": "execute_result"
    }
   ],
   "source": [
    "df.isna().sum()"
   ]
  },
  {
   "cell_type": "markdown",
   "id": "adaptive-going",
   "metadata": {},
   "source": [
    "Now we have the na values replaced."
   ]
  },
  {
   "cell_type": "markdown",
   "id": "solar-disability",
   "metadata": {},
   "source": [
    "Correlation"
   ]
  },
  {
   "cell_type": "code",
   "execution_count": 35,
   "id": "convenient-semester",
   "metadata": {},
   "outputs": [
    {
     "data": {
      "text/plain": [
       "<AxesSubplot:>"
      ]
     },
     "execution_count": 35,
     "metadata": {},
     "output_type": "execute_result"
    },
    {
     "data": {
      "image/png": "[encoded data removed]",
      "text/plain": [
       "<Figure size 1440x1440 with 2 Axes>"
      ]
     },
     "metadata": {
      "needs_background": "light"
     },
     "output_type": "display_data"
    }
   ],
   "source": [
    "plt.figure(figsize=(20,20))\n",
    "sns.heatmap(df.corr(), annot=True)"
   ]
  },
  {
   "cell_type": "markdown",
   "id": "metallic-buyer",
   "metadata": {},
   "source": [
    "Loan status us highly correlated to Loan_status.\n",
    "\n",
    "Loan amount and applicant income is highly correlated, meaning the more the applicant income, the more will be the loan amount.\n",
    "\n",
    "Gender, dependents anad married are correlated with each other.\n",
    "\n",
    "Apart from these, there are not much data which shows positive or negative correlation."
   ]
  },
  {
   "cell_type": "markdown",
   "id": "oriental-restoration",
   "metadata": {},
   "source": [
    "Describe"
   ]
  },
  {
   "cell_type": "code",
   "execution_count": 36,
   "id": "cubic-spanking",
   "metadata": {},
   "outputs": [
    {
     "data": {
      "text/html": [
       "<div>\n",
       "<style scoped>\n",
       "    .dataframe tbody tr th:only-of-type {\n",
       "        vertical-align: middle;\n",
       "    }\n",
       "\n",
       "    .dataframe tbody tr th {\n",
       "        vertical-align: top;\n",
       "    }\n",
       "\n",
       "    .dataframe thead th {\n",
       "        text-align: right;\n",
       "    }\n",
       "</style>\n",
       "<table border=\"1\" class=\"dataframe\">\n",
       "  <thead>\n",
       "    <tr style=\"text-align: right;\">\n",
       "      <th></th>\n",
       "      <th>ApplicantIncome</th>\n",
       "      <th>CoapplicantIncome</th>\n",
       "      <th>LoanAmount</th>\n",
       "      <th>Loan_Amount_Term</th>\n",
       "      <th>Credit_History</th>\n",
       "      <th>Loan_Status</th>\n",
       "    </tr>\n",
       "  </thead>\n",
       "  <tbody>\n",
       "    <tr>\n",
       "      <th>count</th>\n",
       "      <td>614.000000</td>\n",
       "      <td>614.000000</td>\n",
       "      <td>614.000000</td>\n",
       "      <td>614.000000</td>\n",
       "      <td>614.000000</td>\n",
       "      <td>614.000000</td>\n",
       "    </tr>\n",
       "    <tr>\n",
       "      <th>mean</th>\n",
       "      <td>5403.459283</td>\n",
       "      <td>1621.245798</td>\n",
       "      <td>146.412162</td>\n",
       "      <td>342.410423</td>\n",
       "      <td>0.855049</td>\n",
       "      <td>0.687296</td>\n",
       "    </tr>\n",
       "    <tr>\n",
       "      <th>std</th>\n",
       "      <td>6109.041673</td>\n",
       "      <td>2926.248369</td>\n",
       "      <td>84.037468</td>\n",
       "      <td>64.428629</td>\n",
       "      <td>0.352339</td>\n",
       "      <td>0.463973</td>\n",
       "    </tr>\n",
       "    <tr>\n",
       "      <th>min</th>\n",
       "      <td>150.000000</td>\n",
       "      <td>0.000000</td>\n",
       "      <td>9.000000</td>\n",
       "      <td>12.000000</td>\n",
       "      <td>0.000000</td>\n",
       "      <td>0.000000</td>\n",
       "    </tr>\n",
       "    <tr>\n",
       "      <th>25%</th>\n",
       "      <td>2877.500000</td>\n",
       "      <td>0.000000</td>\n",
       "      <td>100.250000</td>\n",
       "      <td>360.000000</td>\n",
       "      <td>1.000000</td>\n",
       "      <td>0.000000</td>\n",
       "    </tr>\n",
       "    <tr>\n",
       "      <th>50%</th>\n",
       "      <td>3812.500000</td>\n",
       "      <td>1188.500000</td>\n",
       "      <td>129.000000</td>\n",
       "      <td>360.000000</td>\n",
       "      <td>1.000000</td>\n",
       "      <td>1.000000</td>\n",
       "    </tr>\n",
       "    <tr>\n",
       "      <th>75%</th>\n",
       "      <td>5795.000000</td>\n",
       "      <td>2297.250000</td>\n",
       "      <td>164.750000</td>\n",
       "      <td>360.000000</td>\n",
       "      <td>1.000000</td>\n",
       "      <td>1.000000</td>\n",
       "    </tr>\n",
       "    <tr>\n",
       "      <th>max</th>\n",
       "      <td>81000.000000</td>\n",
       "      <td>41667.000000</td>\n",
       "      <td>700.000000</td>\n",
       "      <td>480.000000</td>\n",
       "      <td>1.000000</td>\n",
       "      <td>1.000000</td>\n",
       "    </tr>\n",
       "  </tbody>\n",
       "</table>\n",
       "</div>"
      ],
      "text/plain": [
       "       ApplicantIncome  CoapplicantIncome  LoanAmount  Loan_Amount_Term  \\\n",
       "count       614.000000         614.000000  614.000000        614.000000   \n",
       "mean       5403.459283        1621.245798  146.412162        342.410423   \n",
       "std        6109.041673        2926.248369   84.037468         64.428629   \n",
       "min         150.000000           0.000000    9.000000         12.000000   \n",
       "25%        2877.500000           0.000000  100.250000        360.000000   \n",
       "50%        3812.500000        1188.500000  129.000000        360.000000   \n",
       "75%        5795.000000        2297.250000  164.750000        360.000000   \n",
       "max       81000.000000       41667.000000  700.000000        480.000000   \n",
       "\n",
       "       Credit_History  Loan_Status  \n",
       "count      614.000000   614.000000  \n",
       "mean         0.855049     0.687296  \n",
       "std          0.352339     0.463973  \n",
       "min          0.000000     0.000000  \n",
       "25%          1.000000     0.000000  \n",
       "50%          1.000000     1.000000  \n",
       "75%          1.000000     1.000000  \n",
       "max          1.000000     1.000000  "
      ]
     },
     "execution_count": 36,
     "metadata": {},
     "output_type": "execute_result"
    }
   ],
   "source": [
    "df.describe()"
   ]
  },
  {
   "cell_type": "markdown",
   "id": "endangered-complaint",
   "metadata": {},
   "source": [
    "There are 614 columns Where we can take the details for the numerical columns.\n",
    "\n",
    "Applicant income: Mean = 5403\n",
    "                  Max  = 8100\n",
    "\n",
    "        \n",
    "Coapplicant income: Mean = 1621\n",
    "                    Max  = 41667\n",
    "\n",
    "\n",
    "Loan amount : Mean = 146.412\n",
    "              Max  = 700\n",
    "        "
   ]
  },
  {
   "cell_type": "code",
   "execution_count": 37,
   "id": "administrative-hacker",
   "metadata": {},
   "outputs": [
    {
     "data": {
      "text/plain": [
       "Gender                object\n",
       "Married               object\n",
       "Dependents            object\n",
       "Education             object\n",
       "Self_Employed         object\n",
       "ApplicantIncome        int64\n",
       "CoapplicantIncome    float64\n",
       "LoanAmount           float64\n",
       "Loan_Amount_Term     float64\n",
       "Credit_History       float64\n",
       "Property_Area         object\n",
       "Loan_Status          float64\n",
       "dtype: object"
      ]
     },
     "execution_count": 37,
     "metadata": {},
     "output_type": "execute_result"
    }
   ],
   "source": [
    "df.dtypes"
   ]
  },
  {
   "cell_type": "code",
   "execution_count": 38,
   "id": "heard-watts",
   "metadata": {},
   "outputs": [],
   "source": [
    "# We have already created instances above\n",
    "for i in df.columns:\n",
    "    if df[i].dtypes == 'object':\n",
    "        df[i] = enc.fit_transform(df[i].values.reshape(-1,1))"
   ]
  },
  {
   "cell_type": "code",
   "execution_count": 39,
   "id": "optional-symposium",
   "metadata": {},
   "outputs": [
    {
     "data": {
      "text/plain": [
       "Gender               float64\n",
       "Married              float64\n",
       "Dependents           float64\n",
       "Education            float64\n",
       "Self_Employed        float64\n",
       "ApplicantIncome        int64\n",
       "CoapplicantIncome    float64\n",
       "LoanAmount           float64\n",
       "Loan_Amount_Term     float64\n",
       "Credit_History       float64\n",
       "Property_Area        float64\n",
       "Loan_Status          float64\n",
       "dtype: object"
      ]
     },
     "execution_count": 39,
     "metadata": {},
     "output_type": "execute_result"
    }
   ],
   "source": [
    "df.dtypes"
   ]
  },
  {
   "cell_type": "markdown",
   "id": "ancient-somalia",
   "metadata": {},
   "source": [
    "Now we have all the data in numeric format."
   ]
  },
  {
   "cell_type": "markdown",
   "id": "recognized-sender",
   "metadata": {},
   "source": [
    "Now we can go ahead just to check the skewness using the distplot and also the possible outliers in the data."
   ]
  },
  {
   "cell_type": "code",
   "execution_count": 40,
   "id": "ancient-absence",
   "metadata": {},
   "outputs": [
    {
     "data": {
      "text/html": [
       "<div>\n",
       "<style scoped>\n",
       "    .dataframe tbody tr th:only-of-type {\n",
       "        vertical-align: middle;\n",
       "    }\n",
       "\n",
       "    .dataframe tbody tr th {\n",
       "        vertical-align: top;\n",
       "    }\n",
       "\n",
       "    .dataframe thead th {\n",
       "        text-align: right;\n",
       "    }\n",
       "</style>\n",
       "<table border=\"1\" class=\"dataframe\">\n",
       "  <thead>\n",
       "    <tr style=\"text-align: right;\">\n",
       "      <th></th>\n",
       "      <th>Gender</th>\n",
       "      <th>Married</th>\n",
       "      <th>Dependents</th>\n",
       "      <th>Education</th>\n",
       "      <th>Self_Employed</th>\n",
       "      <th>ApplicantIncome</th>\n",
       "      <th>CoapplicantIncome</th>\n",
       "      <th>LoanAmount</th>\n",
       "      <th>Loan_Amount_Term</th>\n",
       "      <th>Credit_History</th>\n",
       "      <th>Property_Area</th>\n",
       "      <th>Loan_Status</th>\n",
       "    </tr>\n",
       "  </thead>\n",
       "  <tbody>\n",
       "    <tr>\n",
       "      <th>0</th>\n",
       "      <td>1.0</td>\n",
       "      <td>0.0</td>\n",
       "      <td>0.0</td>\n",
       "      <td>0.0</td>\n",
       "      <td>0.0</td>\n",
       "      <td>5849</td>\n",
       "      <td>0.0</td>\n",
       "      <td>146.412162</td>\n",
       "      <td>360.0</td>\n",
       "      <td>1.0</td>\n",
       "      <td>2.0</td>\n",
       "      <td>1.0</td>\n",
       "    </tr>\n",
       "    <tr>\n",
       "      <th>1</th>\n",
       "      <td>1.0</td>\n",
       "      <td>1.0</td>\n",
       "      <td>1.0</td>\n",
       "      <td>0.0</td>\n",
       "      <td>0.0</td>\n",
       "      <td>4583</td>\n",
       "      <td>1508.0</td>\n",
       "      <td>128.000000</td>\n",
       "      <td>360.0</td>\n",
       "      <td>1.0</td>\n",
       "      <td>0.0</td>\n",
       "      <td>0.0</td>\n",
       "    </tr>\n",
       "    <tr>\n",
       "      <th>2</th>\n",
       "      <td>1.0</td>\n",
       "      <td>1.0</td>\n",
       "      <td>0.0</td>\n",
       "      <td>0.0</td>\n",
       "      <td>1.0</td>\n",
       "      <td>3000</td>\n",
       "      <td>0.0</td>\n",
       "      <td>66.000000</td>\n",
       "      <td>360.0</td>\n",
       "      <td>1.0</td>\n",
       "      <td>2.0</td>\n",
       "      <td>1.0</td>\n",
       "    </tr>\n",
       "    <tr>\n",
       "      <th>3</th>\n",
       "      <td>1.0</td>\n",
       "      <td>1.0</td>\n",
       "      <td>0.0</td>\n",
       "      <td>1.0</td>\n",
       "      <td>0.0</td>\n",
       "      <td>2583</td>\n",
       "      <td>2358.0</td>\n",
       "      <td>120.000000</td>\n",
       "      <td>360.0</td>\n",
       "      <td>1.0</td>\n",
       "      <td>2.0</td>\n",
       "      <td>1.0</td>\n",
       "    </tr>\n",
       "    <tr>\n",
       "      <th>4</th>\n",
       "      <td>1.0</td>\n",
       "      <td>0.0</td>\n",
       "      <td>0.0</td>\n",
       "      <td>0.0</td>\n",
       "      <td>0.0</td>\n",
       "      <td>6000</td>\n",
       "      <td>0.0</td>\n",
       "      <td>141.000000</td>\n",
       "      <td>360.0</td>\n",
       "      <td>1.0</td>\n",
       "      <td>2.0</td>\n",
       "      <td>1.0</td>\n",
       "    </tr>\n",
       "  </tbody>\n",
       "</table>\n",
       "</div>"
      ],
      "text/plain": [
       "   Gender  Married  Dependents  Education  Self_Employed  ApplicantIncome  \\\n",
       "0     1.0      0.0         0.0        0.0            0.0             5849   \n",
       "1     1.0      1.0         1.0        0.0            0.0             4583   \n",
       "2     1.0      1.0         0.0        0.0            1.0             3000   \n",
       "3     1.0      1.0         0.0        1.0            0.0             2583   \n",
       "4     1.0      0.0         0.0        0.0            0.0             6000   \n",
       "\n",
       "   CoapplicantIncome  LoanAmount  Loan_Amount_Term  Credit_History  \\\n",
       "0                0.0  146.412162             360.0             1.0   \n",
       "1             1508.0  128.000000             360.0             1.0   \n",
       "2                0.0   66.000000             360.0             1.0   \n",
       "3             2358.0  120.000000             360.0             1.0   \n",
       "4                0.0  141.000000             360.0             1.0   \n",
       "\n",
       "   Property_Area  Loan_Status  \n",
       "0            2.0          1.0  \n",
       "1            0.0          0.0  \n",
       "2            2.0          1.0  \n",
       "3            2.0          1.0  \n",
       "4            2.0          1.0  "
      ]
     },
     "execution_count": 40,
     "metadata": {},
     "output_type": "execute_result"
    }
   ],
   "source": [
    "df.head()"
   ]
  },
  {
   "cell_type": "code",
   "execution_count": 41,
   "id": "listed-ceramic",
   "metadata": {},
   "outputs": [
    {
     "data": {
      "image/png": "[encoded data removed]",
      "text/plain": [
       "<Figure size 432x288 with 1 Axes>"
      ]
     },
     "metadata": {
      "needs_background": "light"
     },
     "output_type": "display_data"
    },
    {
     "data": {
      "image/png": "[encoded data removed]",
      "text/plain": [
       "<Figure size 432x288 with 1 Axes>"
      ]
     },
     "metadata": {
      "needs_background": "light"
     },
     "output_type": "display_data"
    },
    {
     "data": {
      "image/png": "[encoded data removed]",
      "text/plain": [
       "<Figure size 432x288 with 1 Axes>"
      ]
     },
     "metadata": {
      "needs_background": "light"
     },
     "output_type": "display_data"
    }
   ],
   "source": [
    "for i in num:\n",
    "    df[i].plot.box()\n",
    "    plt.show()"
   ]
  },
  {
   "cell_type": "markdown",
   "id": "spread-heaven",
   "metadata": {},
   "source": [
    "We are able to see here that in all the columns, there are outliers, checking the details on the outliers.\n"
   ]
  },
  {
   "cell_type": "code",
   "execution_count": 42,
   "id": "continuous-scheduling",
   "metadata": {},
   "outputs": [
    {
     "name": "stdout",
     "output_type": "stream",
     "text": [
      "(array([  9,  14,  68,  94, 126, 130, 133, 155, 155, 171, 171, 177, 177,\n",
      "       183, 185, 242, 262, 278, 308, 313, 333, 333, 369, 402, 409, 417,\n",
      "       432, 443, 487, 495, 497, 506, 523, 525, 546, 561, 575, 581, 585,\n",
      "       600, 604], dtype=int64), array([6, 8, 8, 8, 5, 7, 8, 5, 7, 5, 7, 6, 7, 5, 5, 8, 8, 7, 7, 8, 5, 7,\n",
      "       7, 6, 5, 6, 7, 5, 7, 8, 8, 7, 7, 7, 8, 7, 8, 6, 8, 6, 7],\n",
      "      dtype=int64))\n"
     ]
    }
   ],
   "source": [
    "from scipy.stats import zscore\n",
    "z=np.abs(zscore(df))\n",
    "threshold=3\n",
    "print(np.where(z>3))"
   ]
  },
  {
   "cell_type": "code",
   "execution_count": 43,
   "id": "received-ordering",
   "metadata": {},
   "outputs": [
    {
     "data": {
      "text/plain": [
       "(614, 12)"
      ]
     },
     "execution_count": 43,
     "metadata": {},
     "output_type": "execute_result"
    }
   ],
   "source": [
    "df.shape"
   ]
  },
  {
   "cell_type": "code",
   "execution_count": 44,
   "id": "municipal-accident",
   "metadata": {},
   "outputs": [
    {
     "name": "stdout",
     "output_type": "stream",
     "text": [
      "(614, 12)\n",
      "(577, 12)\n"
     ]
    }
   ],
   "source": [
    "dfn = df[(z<3).all(axis=1)]\n",
    "print(df.shape)\n",
    "print(dfn.shape)\n"
   ]
  },
  {
   "cell_type": "code",
   "execution_count": 45,
   "id": "comparable-profit",
   "metadata": {},
   "outputs": [
    {
     "data": {
      "text/plain": [
       "6.026058631921824"
      ]
     },
     "execution_count": 45,
     "metadata": {},
     "output_type": "execute_result"
    }
   ],
   "source": [
    "# percentage of data loss.\n",
    "data_loss = ((614-577)/614)*100\n",
    "data_loss"
   ]
  },
  {
   "cell_type": "markdown",
   "id": "exotic-barrier",
   "metadata": {},
   "source": [
    "5.6% data is something we can afford and hence we will go ahead dfn."
   ]
  },
  {
   "cell_type": "code",
   "execution_count": 46,
   "id": "thick-techno",
   "metadata": {},
   "outputs": [
    {
     "data": {
      "image/png": "[encoded data removed]",
      "text/plain": [
       "<Figure size 432x288 with 1 Axes>"
      ]
     },
     "metadata": {
      "needs_background": "light"
     },
     "output_type": "display_data"
    },
    {
     "data": {
      "image/png": "[encoded data removed]",
      "text/plain": [
       "<Figure size 432x288 with 1 Axes>"
      ]
     },
     "metadata": {
      "needs_background": "light"
     },
     "output_type": "display_data"
    },
    {
     "data": {
      "image/png": "[encoded data removed]",
      "text/plain": [
       "<Figure size 432x288 with 1 Axes>"
      ]
     },
     "metadata": {
      "needs_background": "light"
     },
     "output_type": "display_data"
    }
   ],
   "source": [
    "for i in num:\n",
    "    sns.distplot(df[i])\n",
    "    plt.show()"
   ]
  },
  {
   "cell_type": "markdown",
   "id": "false-uniform",
   "metadata": {},
   "source": [
    "We are able to see here that there are skewness in the numerical daata which we will remove verysoon."
   ]
  },
  {
   "cell_type": "markdown",
   "id": "incomplete-ground",
   "metadata": {},
   "source": [
    "Split"
   ]
  },
  {
   "cell_type": "code",
   "execution_count": 47,
   "id": "exclusive-flesh",
   "metadata": {},
   "outputs": [],
   "source": [
    "x=dfn.drop(columns='Loan_Status')\n",
    "y=dfn['Loan_Status']"
   ]
  },
  {
   "cell_type": "code",
   "execution_count": 48,
   "id": "answering-currency",
   "metadata": {},
   "outputs": [
    {
     "data": {
      "text/plain": [
       "(577,)"
      ]
     },
     "execution_count": 48,
     "metadata": {},
     "output_type": "execute_result"
    }
   ],
   "source": [
    "y.shape"
   ]
  },
  {
   "cell_type": "code",
   "execution_count": 49,
   "id": "sacred-dutch",
   "metadata": {},
   "outputs": [
    {
     "data": {
      "text/plain": [
       "(577, 11)"
      ]
     },
     "execution_count": 49,
     "metadata": {},
     "output_type": "execute_result"
    }
   ],
   "source": [
    "x.shape"
   ]
  },
  {
   "cell_type": "markdown",
   "id": "portable-picture",
   "metadata": {},
   "source": [
    "Checking skewness"
   ]
  },
  {
   "cell_type": "code",
   "execution_count": 50,
   "id": "pressing-sugar",
   "metadata": {},
   "outputs": [
    {
     "data": {
      "text/plain": [
       "Gender              -1.622920\n",
       "Married             -0.630211\n",
       "Dependents           1.052106\n",
       "Education            1.306588\n",
       "Self_Employed        2.252848\n",
       "ApplicantIncome      2.148522\n",
       "CoapplicantIncome    1.350517\n",
       "LoanAmount           1.113132\n",
       "Loan_Amount_Term    -2.098806\n",
       "Credit_History      -1.976043\n",
       "Property_Area       -0.055332\n",
       "Loan_Status         -0.822635\n",
       "dtype: float64"
      ]
     },
     "execution_count": 50,
     "metadata": {},
     "output_type": "execute_result"
    }
   ],
   "source": [
    "dfn.skew()"
   ]
  },
  {
   "cell_type": "markdown",
   "id": "willing-calibration",
   "metadata": {},
   "source": [
    "Here Loan amount, Loan amount term and income are skewed, we have to remove the skewness to get a better data."
   ]
  },
  {
   "cell_type": "code",
   "execution_count": 51,
   "id": "printable-guarantee",
   "metadata": {},
   "outputs": [
    {
     "data": {
      "text/plain": [
       "Index(['Gender', 'Married', 'Dependents', 'Education', 'Self_Employed',\n",
       "       'ApplicantIncome', 'CoapplicantIncome', 'LoanAmount',\n",
       "       'Loan_Amount_Term', 'Credit_History', 'Property_Area'],\n",
       "      dtype='object')"
      ]
     },
     "execution_count": 51,
     "metadata": {},
     "output_type": "execute_result"
    }
   ],
   "source": [
    "x.columns"
   ]
  },
  {
   "cell_type": "code",
   "execution_count": 52,
   "id": "imperial-mozambique",
   "metadata": {},
   "outputs": [],
   "source": [
    "cl=['Gender', 'Married', 'Dependents', 'Education', 'Self_Employed',\n",
    "       'ApplicantIncome', 'CoapplicantIncome', 'LoanAmount',\n",
    "       'Loan_Amount_Term', 'Credit_History', 'Property_Area']"
   ]
  },
  {
   "cell_type": "code",
   "execution_count": 53,
   "id": "boxed-jones",
   "metadata": {},
   "outputs": [],
   "source": [
    "from sklearn.preprocessing import PowerTransformer\n",
    "pwr=PowerTransformer(method='yeo-johnson')\n",
    "x=pwr.fit_transform(x)\n",
    "x=pd.DataFrame(x,columns=cl)"
   ]
  },
  {
   "cell_type": "code",
   "execution_count": 54,
   "id": "fitted-gamma",
   "metadata": {},
   "outputs": [
    {
     "data": {
      "text/html": [
       "<div>\n",
       "<style scoped>\n",
       "    .dataframe tbody tr th:only-of-type {\n",
       "        vertical-align: middle;\n",
       "    }\n",
       "\n",
       "    .dataframe tbody tr th {\n",
       "        vertical-align: top;\n",
       "    }\n",
       "\n",
       "    .dataframe thead th {\n",
       "        text-align: right;\n",
       "    }\n",
       "</style>\n",
       "<table border=\"1\" class=\"dataframe\">\n",
       "  <thead>\n",
       "    <tr style=\"text-align: right;\">\n",
       "      <th></th>\n",
       "      <th>Gender</th>\n",
       "      <th>Married</th>\n",
       "      <th>Dependents</th>\n",
       "      <th>Education</th>\n",
       "      <th>Self_Employed</th>\n",
       "      <th>ApplicantIncome</th>\n",
       "      <th>CoapplicantIncome</th>\n",
       "      <th>LoanAmount</th>\n",
       "      <th>Loan_Amount_Term</th>\n",
       "      <th>Credit_History</th>\n",
       "      <th>Property_Area</th>\n",
       "    </tr>\n",
       "  </thead>\n",
       "  <tbody>\n",
       "    <tr>\n",
       "      <th>0</th>\n",
       "      <td>0.477137</td>\n",
       "      <td>-1.362511</td>\n",
       "      <td>-0.809243</td>\n",
       "      <td>-0.541961</td>\n",
       "      <td>-0.380580</td>\n",
       "      <td>0.681780</td>\n",
       "      <td>-1.122446</td>\n",
       "      <td>0.316078</td>\n",
       "      <td>0.130788</td>\n",
       "      <td>0.418513</td>\n",
       "      <td>1.194806</td>\n",
       "    </tr>\n",
       "    <tr>\n",
       "      <th>1</th>\n",
       "      <td>0.477137</td>\n",
       "      <td>0.733939</td>\n",
       "      <td>0.902869</td>\n",
       "      <td>-0.541961</td>\n",
       "      <td>-0.380580</td>\n",
       "      <td>0.234783</td>\n",
       "      <td>0.744117</td>\n",
       "      <td>-0.015871</td>\n",
       "      <td>0.130788</td>\n",
       "      <td>0.418513</td>\n",
       "      <td>-1.340199</td>\n",
       "    </tr>\n",
       "    <tr>\n",
       "      <th>2</th>\n",
       "      <td>0.477137</td>\n",
       "      <td>0.733939</td>\n",
       "      <td>-0.809243</td>\n",
       "      <td>-0.541961</td>\n",
       "      <td>2.627567</td>\n",
       "      <td>-0.527201</td>\n",
       "      <td>-1.122446</td>\n",
       "      <td>-1.443112</td>\n",
       "      <td>0.130788</td>\n",
       "      <td>0.418513</td>\n",
       "      <td>1.194806</td>\n",
       "    </tr>\n",
       "    <tr>\n",
       "      <th>3</th>\n",
       "      <td>0.477137</td>\n",
       "      <td>0.733939</td>\n",
       "      <td>-0.809243</td>\n",
       "      <td>1.845150</td>\n",
       "      <td>-0.380580</td>\n",
       "      <td>-0.791972</td>\n",
       "      <td>0.895786</td>\n",
       "      <td>-0.169860</td>\n",
       "      <td>0.130788</td>\n",
       "      <td>0.418513</td>\n",
       "      <td>1.194806</td>\n",
       "    </tr>\n",
       "    <tr>\n",
       "      <th>4</th>\n",
       "      <td>0.477137</td>\n",
       "      <td>-1.362511</td>\n",
       "      <td>-0.809243</td>\n",
       "      <td>-0.541961</td>\n",
       "      <td>-0.380580</td>\n",
       "      <td>0.728848</td>\n",
       "      <td>-1.122446</td>\n",
       "      <td>0.221481</td>\n",
       "      <td>0.130788</td>\n",
       "      <td>0.418513</td>\n",
       "      <td>1.194806</td>\n",
       "    </tr>\n",
       "    <tr>\n",
       "      <th>...</th>\n",
       "      <td>...</td>\n",
       "      <td>...</td>\n",
       "      <td>...</td>\n",
       "      <td>...</td>\n",
       "      <td>...</td>\n",
       "      <td>...</td>\n",
       "      <td>...</td>\n",
       "      <td>...</td>\n",
       "      <td>...</td>\n",
       "      <td>...</td>\n",
       "      <td>...</td>\n",
       "    </tr>\n",
       "    <tr>\n",
       "      <th>572</th>\n",
       "      <td>-2.095835</td>\n",
       "      <td>-1.362511</td>\n",
       "      <td>-0.809243</td>\n",
       "      <td>-0.541961</td>\n",
       "      <td>-0.380580</td>\n",
       "      <td>-0.587375</td>\n",
       "      <td>-1.122446</td>\n",
       "      <td>-1.301481</td>\n",
       "      <td>0.130788</td>\n",
       "      <td>0.418513</td>\n",
       "      <td>-1.340199</td>\n",
       "    </tr>\n",
       "    <tr>\n",
       "      <th>573</th>\n",
       "      <td>0.477137</td>\n",
       "      <td>0.733939</td>\n",
       "      <td>1.533596</td>\n",
       "      <td>-0.541961</td>\n",
       "      <td>-0.380580</td>\n",
       "      <td>0.035386</td>\n",
       "      <td>-1.122446</td>\n",
       "      <td>-2.321865</td>\n",
       "      <td>-2.562700</td>\n",
       "      <td>0.418513</td>\n",
       "      <td>-1.340199</td>\n",
       "    </tr>\n",
       "    <tr>\n",
       "      <th>574</th>\n",
       "      <td>0.477137</td>\n",
       "      <td>0.733939</td>\n",
       "      <td>0.902869</td>\n",
       "      <td>-0.541961</td>\n",
       "      <td>-0.380580</td>\n",
       "      <td>1.281658</td>\n",
       "      <td>0.173344</td>\n",
       "      <td>1.838099</td>\n",
       "      <td>0.130788</td>\n",
       "      <td>0.418513</td>\n",
       "      <td>1.194806</td>\n",
       "    </tr>\n",
       "    <tr>\n",
       "      <th>575</th>\n",
       "      <td>0.477137</td>\n",
       "      <td>0.733939</td>\n",
       "      <td>1.344671</td>\n",
       "      <td>-0.541961</td>\n",
       "      <td>-0.380580</td>\n",
       "      <td>1.164426</td>\n",
       "      <td>-1.122446</td>\n",
       "      <td>0.961555</td>\n",
       "      <td>0.130788</td>\n",
       "      <td>0.418513</td>\n",
       "      <td>1.194806</td>\n",
       "    </tr>\n",
       "    <tr>\n",
       "      <th>576</th>\n",
       "      <td>-2.095835</td>\n",
       "      <td>-1.362511</td>\n",
       "      <td>-0.809243</td>\n",
       "      <td>-0.541961</td>\n",
       "      <td>2.627567</td>\n",
       "      <td>0.234783</td>\n",
       "      <td>-1.122446</td>\n",
       "      <td>0.077204</td>\n",
       "      <td>0.130788</td>\n",
       "      <td>-2.389415</td>\n",
       "      <td>0.015464</td>\n",
       "    </tr>\n",
       "  </tbody>\n",
       "</table>\n",
       "<p>577 rows × 11 columns</p>\n",
       "</div>"
      ],
      "text/plain": [
       "       Gender   Married  Dependents  Education  Self_Employed  \\\n",
       "0    0.477137 -1.362511   -0.809243  -0.541961      -0.380580   \n",
       "1    0.477137  0.733939    0.902869  -0.541961      -0.380580   \n",
       "2    0.477137  0.733939   -0.809243  -0.541961       2.627567   \n",
       "3    0.477137  0.733939   -0.809243   1.845150      -0.380580   \n",
       "4    0.477137 -1.362511   -0.809243  -0.541961      -0.380580   \n",
       "..        ...       ...         ...        ...            ...   \n",
       "572 -2.095835 -1.362511   -0.809243  -0.541961      -0.380580   \n",
       "573  0.477137  0.733939    1.533596  -0.541961      -0.380580   \n",
       "574  0.477137  0.733939    0.902869  -0.541961      -0.380580   \n",
       "575  0.477137  0.733939    1.344671  -0.541961      -0.380580   \n",
       "576 -2.095835 -1.362511   -0.809243  -0.541961       2.627567   \n",
       "\n",
       "     ApplicantIncome  CoapplicantIncome  LoanAmount  Loan_Amount_Term  \\\n",
       "0           0.681780          -1.122446    0.316078          0.130788   \n",
       "1           0.234783           0.744117   -0.015871          0.130788   \n",
       "2          -0.527201          -1.122446   -1.443112          0.130788   \n",
       "3          -0.791972           0.895786   -0.169860          0.130788   \n",
       "4           0.728848          -1.122446    0.221481          0.130788   \n",
       "..               ...                ...         ...               ...   \n",
       "572        -0.587375          -1.122446   -1.301481          0.130788   \n",
       "573         0.035386          -1.122446   -2.321865         -2.562700   \n",
       "574         1.281658           0.173344    1.838099          0.130788   \n",
       "575         1.164426          -1.122446    0.961555          0.130788   \n",
       "576         0.234783          -1.122446    0.077204          0.130788   \n",
       "\n",
       "     Credit_History  Property_Area  \n",
       "0          0.418513       1.194806  \n",
       "1          0.418513      -1.340199  \n",
       "2          0.418513       1.194806  \n",
       "3          0.418513       1.194806  \n",
       "4          0.418513       1.194806  \n",
       "..              ...            ...  \n",
       "572        0.418513      -1.340199  \n",
       "573        0.418513      -1.340199  \n",
       "574        0.418513       1.194806  \n",
       "575        0.418513       1.194806  \n",
       "576       -2.389415       0.015464  \n",
       "\n",
       "[577 rows x 11 columns]"
      ]
     },
     "execution_count": 54,
     "metadata": {},
     "output_type": "execute_result"
    }
   ],
   "source": [
    "x"
   ]
  },
  {
   "cell_type": "code",
   "execution_count": 55,
   "id": "photographic-cloud",
   "metadata": {},
   "outputs": [
    {
     "data": {
      "text/plain": [
       "Gender              -1.622920\n",
       "Married             -0.630211\n",
       "Dependents           0.478360\n",
       "Education            1.306588\n",
       "Self_Employed        2.252848\n",
       "ApplicantIncome      0.027981\n",
       "CoapplicantIncome   -0.191876\n",
       "LoanAmount           0.047692\n",
       "Loan_Amount_Term     0.727533\n",
       "Credit_History      -1.976043\n",
       "Property_Area       -0.155094\n",
       "dtype: float64"
      ]
     },
     "execution_count": 55,
     "metadata": {},
     "output_type": "execute_result"
    }
   ],
   "source": [
    "x.skew()"
   ]
  },
  {
   "cell_type": "markdown",
   "id": "parental-module",
   "metadata": {},
   "source": [
    "In the numerical variables, the skewness has been removed now, as there is a big difference in the income section and the loam amount, it will be better if we standardise the data before moving ahead with modelling."
   ]
  },
  {
   "cell_type": "code",
   "execution_count": 56,
   "id": "familiar-candidate",
   "metadata": {},
   "outputs": [
    {
     "data": {
      "text/html": [
       "<div>\n",
       "<style scoped>\n",
       "    .dataframe tbody tr th:only-of-type {\n",
       "        vertical-align: middle;\n",
       "    }\n",
       "\n",
       "    .dataframe tbody tr th {\n",
       "        vertical-align: top;\n",
       "    }\n",
       "\n",
       "    .dataframe thead th {\n",
       "        text-align: right;\n",
       "    }\n",
       "</style>\n",
       "<table border=\"1\" class=\"dataframe\">\n",
       "  <thead>\n",
       "    <tr style=\"text-align: right;\">\n",
       "      <th></th>\n",
       "      <th>Gender</th>\n",
       "      <th>Married</th>\n",
       "      <th>Dependents</th>\n",
       "      <th>Education</th>\n",
       "      <th>Self_Employed</th>\n",
       "      <th>ApplicantIncome</th>\n",
       "      <th>CoapplicantIncome</th>\n",
       "      <th>LoanAmount</th>\n",
       "      <th>Loan_Amount_Term</th>\n",
       "      <th>Credit_History</th>\n",
       "      <th>Property_Area</th>\n",
       "    </tr>\n",
       "  </thead>\n",
       "  <tbody>\n",
       "    <tr>\n",
       "      <th>0</th>\n",
       "      <td>0.477137</td>\n",
       "      <td>-1.362511</td>\n",
       "      <td>-0.809243</td>\n",
       "      <td>-0.541961</td>\n",
       "      <td>-0.380580</td>\n",
       "      <td>0.681780</td>\n",
       "      <td>-1.122446</td>\n",
       "      <td>0.316078</td>\n",
       "      <td>0.130788</td>\n",
       "      <td>0.418513</td>\n",
       "      <td>1.194806</td>\n",
       "    </tr>\n",
       "    <tr>\n",
       "      <th>1</th>\n",
       "      <td>0.477137</td>\n",
       "      <td>0.733939</td>\n",
       "      <td>0.902869</td>\n",
       "      <td>-0.541961</td>\n",
       "      <td>-0.380580</td>\n",
       "      <td>0.234783</td>\n",
       "      <td>0.744117</td>\n",
       "      <td>-0.015871</td>\n",
       "      <td>0.130788</td>\n",
       "      <td>0.418513</td>\n",
       "      <td>-1.340199</td>\n",
       "    </tr>\n",
       "    <tr>\n",
       "      <th>2</th>\n",
       "      <td>0.477137</td>\n",
       "      <td>0.733939</td>\n",
       "      <td>-0.809243</td>\n",
       "      <td>-0.541961</td>\n",
       "      <td>2.627567</td>\n",
       "      <td>-0.527201</td>\n",
       "      <td>-1.122446</td>\n",
       "      <td>-1.443112</td>\n",
       "      <td>0.130788</td>\n",
       "      <td>0.418513</td>\n",
       "      <td>1.194806</td>\n",
       "    </tr>\n",
       "    <tr>\n",
       "      <th>3</th>\n",
       "      <td>0.477137</td>\n",
       "      <td>0.733939</td>\n",
       "      <td>-0.809243</td>\n",
       "      <td>1.845150</td>\n",
       "      <td>-0.380580</td>\n",
       "      <td>-0.791972</td>\n",
       "      <td>0.895786</td>\n",
       "      <td>-0.169860</td>\n",
       "      <td>0.130788</td>\n",
       "      <td>0.418513</td>\n",
       "      <td>1.194806</td>\n",
       "    </tr>\n",
       "    <tr>\n",
       "      <th>4</th>\n",
       "      <td>0.477137</td>\n",
       "      <td>-1.362511</td>\n",
       "      <td>-0.809243</td>\n",
       "      <td>-0.541961</td>\n",
       "      <td>-0.380580</td>\n",
       "      <td>0.728848</td>\n",
       "      <td>-1.122446</td>\n",
       "      <td>0.221481</td>\n",
       "      <td>0.130788</td>\n",
       "      <td>0.418513</td>\n",
       "      <td>1.194806</td>\n",
       "    </tr>\n",
       "    <tr>\n",
       "      <th>...</th>\n",
       "      <td>...</td>\n",
       "      <td>...</td>\n",
       "      <td>...</td>\n",
       "      <td>...</td>\n",
       "      <td>...</td>\n",
       "      <td>...</td>\n",
       "      <td>...</td>\n",
       "      <td>...</td>\n",
       "      <td>...</td>\n",
       "      <td>...</td>\n",
       "      <td>...</td>\n",
       "    </tr>\n",
       "    <tr>\n",
       "      <th>572</th>\n",
       "      <td>-2.095835</td>\n",
       "      <td>-1.362511</td>\n",
       "      <td>-0.809243</td>\n",
       "      <td>-0.541961</td>\n",
       "      <td>-0.380580</td>\n",
       "      <td>-0.587375</td>\n",
       "      <td>-1.122446</td>\n",
       "      <td>-1.301481</td>\n",
       "      <td>0.130788</td>\n",
       "      <td>0.418513</td>\n",
       "      <td>-1.340199</td>\n",
       "    </tr>\n",
       "    <tr>\n",
       "      <th>573</th>\n",
       "      <td>0.477137</td>\n",
       "      <td>0.733939</td>\n",
       "      <td>1.533596</td>\n",
       "      <td>-0.541961</td>\n",
       "      <td>-0.380580</td>\n",
       "      <td>0.035386</td>\n",
       "      <td>-1.122446</td>\n",
       "      <td>-2.321865</td>\n",
       "      <td>-2.562700</td>\n",
       "      <td>0.418513</td>\n",
       "      <td>-1.340199</td>\n",
       "    </tr>\n",
       "    <tr>\n",
       "      <th>574</th>\n",
       "      <td>0.477137</td>\n",
       "      <td>0.733939</td>\n",
       "      <td>0.902869</td>\n",
       "      <td>-0.541961</td>\n",
       "      <td>-0.380580</td>\n",
       "      <td>1.281658</td>\n",
       "      <td>0.173344</td>\n",
       "      <td>1.838099</td>\n",
       "      <td>0.130788</td>\n",
       "      <td>0.418513</td>\n",
       "      <td>1.194806</td>\n",
       "    </tr>\n",
       "    <tr>\n",
       "      <th>575</th>\n",
       "      <td>0.477137</td>\n",
       "      <td>0.733939</td>\n",
       "      <td>1.344671</td>\n",
       "      <td>-0.541961</td>\n",
       "      <td>-0.380580</td>\n",
       "      <td>1.164426</td>\n",
       "      <td>-1.122446</td>\n",
       "      <td>0.961555</td>\n",
       "      <td>0.130788</td>\n",
       "      <td>0.418513</td>\n",
       "      <td>1.194806</td>\n",
       "    </tr>\n",
       "    <tr>\n",
       "      <th>576</th>\n",
       "      <td>-2.095835</td>\n",
       "      <td>-1.362511</td>\n",
       "      <td>-0.809243</td>\n",
       "      <td>-0.541961</td>\n",
       "      <td>2.627567</td>\n",
       "      <td>0.234783</td>\n",
       "      <td>-1.122446</td>\n",
       "      <td>0.077204</td>\n",
       "      <td>0.130788</td>\n",
       "      <td>-2.389415</td>\n",
       "      <td>0.015464</td>\n",
       "    </tr>\n",
       "  </tbody>\n",
       "</table>\n",
       "<p>577 rows × 11 columns</p>\n",
       "</div>"
      ],
      "text/plain": [
       "       Gender   Married  Dependents  Education  Self_Employed  \\\n",
       "0    0.477137 -1.362511   -0.809243  -0.541961      -0.380580   \n",
       "1    0.477137  0.733939    0.902869  -0.541961      -0.380580   \n",
       "2    0.477137  0.733939   -0.809243  -0.541961       2.627567   \n",
       "3    0.477137  0.733939   -0.809243   1.845150      -0.380580   \n",
       "4    0.477137 -1.362511   -0.809243  -0.541961      -0.380580   \n",
       "..        ...       ...         ...        ...            ...   \n",
       "572 -2.095835 -1.362511   -0.809243  -0.541961      -0.380580   \n",
       "573  0.477137  0.733939    1.533596  -0.541961      -0.380580   \n",
       "574  0.477137  0.733939    0.902869  -0.541961      -0.380580   \n",
       "575  0.477137  0.733939    1.344671  -0.541961      -0.380580   \n",
       "576 -2.095835 -1.362511   -0.809243  -0.541961       2.627567   \n",
       "\n",
       "     ApplicantIncome  CoapplicantIncome  LoanAmount  Loan_Amount_Term  \\\n",
       "0           0.681780          -1.122446    0.316078          0.130788   \n",
       "1           0.234783           0.744117   -0.015871          0.130788   \n",
       "2          -0.527201          -1.122446   -1.443112          0.130788   \n",
       "3          -0.791972           0.895786   -0.169860          0.130788   \n",
       "4           0.728848          -1.122446    0.221481          0.130788   \n",
       "..               ...                ...         ...               ...   \n",
       "572        -0.587375          -1.122446   -1.301481          0.130788   \n",
       "573         0.035386          -1.122446   -2.321865         -2.562700   \n",
       "574         1.281658           0.173344    1.838099          0.130788   \n",
       "575         1.164426          -1.122446    0.961555          0.130788   \n",
       "576         0.234783          -1.122446    0.077204          0.130788   \n",
       "\n",
       "     Credit_History  Property_Area  \n",
       "0          0.418513       1.194806  \n",
       "1          0.418513      -1.340199  \n",
       "2          0.418513       1.194806  \n",
       "3          0.418513       1.194806  \n",
       "4          0.418513       1.194806  \n",
       "..              ...            ...  \n",
       "572        0.418513      -1.340199  \n",
       "573        0.418513      -1.340199  \n",
       "574        0.418513       1.194806  \n",
       "575        0.418513       1.194806  \n",
       "576       -2.389415       0.015464  \n",
       "\n",
       "[577 rows x 11 columns]"
      ]
     },
     "execution_count": 56,
     "metadata": {},
     "output_type": "execute_result"
    }
   ],
   "source": [
    "from sklearn.preprocessing import StandardScaler\n",
    "sc = StandardScaler()\n",
    "x = sc.fit_transform(x)\n",
    "\n",
    "x = pd.DataFrame(x, columns = cl)\n",
    "x"
   ]
  },
  {
   "cell_type": "markdown",
   "id": "modified-dodge",
   "metadata": {},
   "source": [
    "Modelling"
   ]
  },
  {
   "cell_type": "code",
   "execution_count": 57,
   "id": "continued-crisis",
   "metadata": {},
   "outputs": [],
   "source": [
    "from sklearn.model_selection import train_test_split\n",
    "x_train, x_test, y_train, y_test=train_test_split(x,y, test_size=.30,random_state=25)"
   ]
  },
  {
   "cell_type": "markdown",
   "id": "crude-regulation",
   "metadata": {},
   "source": [
    "Not using for loop for test and random state as we usually work on getting the best random state and use that for other models as well, however there is a possibility the the random value chanage with the model we use to get the best random state or test size hence not using that and assuming mostly used 30 7- split for test and a random value for random state as I presume that it might not bring a big difference in the data."
   ]
  },
  {
   "cell_type": "code",
   "execution_count": 64,
   "id": "suitable-terry",
   "metadata": {},
   "outputs": [],
   "source": [
    "from sklearn.linear_model import LogisticRegression\n",
    "from sklearn.tree import DecisionTreeClassifier\n",
    "from sklearn.svm import SVC\n",
    "from sklearn.naive_bayes import GaussianNB\n",
    "from sklearn.ensemble import RandomForestClassifier\n",
    "from sklearn.neighbors import KNeighborsClassifier\n",
    "from sklearn.ensemble import AdaBoostClassifier\n",
    "from sklearn.metrics import accuracy_score, classification_report, confusion_matrix"
   ]
  },
  {
   "cell_type": "code",
   "execution_count": 66,
   "id": "hearing-november",
   "metadata": {},
   "outputs": [],
   "source": [
    "lr = LogisticRegression()\n",
    "gnb=GaussianNB()\n",
    "knc = KNeighborsClassifier()\n",
    "dtc = DecisionTreeClassifier()\n",
    "svc = SVC()\n",
    "rf = RandomForestClassifier()\n",
    "ada = AdaBoostClassifier()"
   ]
  },
  {
   "cell_type": "code",
   "execution_count": 67,
   "id": "fifteen-sector",
   "metadata": {},
   "outputs": [
    {
     "name": "stdout",
     "output_type": "stream",
     "text": [
      "The model is:  LogisticRegression()\n",
      "Accuracy score for the training :  0.8188585607940446\n",
      "Accuracy score for the model is:  0.8275862068965517\n",
      "Calssification Report is:                precision    recall  f1-score   support\n",
      "\n",
      "         0.0       0.77      0.40      0.53        42\n",
      "         1.0       0.84      0.96      0.89       132\n",
      "\n",
      "    accuracy                           0.83       174\n",
      "   macro avg       0.80      0.68      0.71       174\n",
      "weighted avg       0.82      0.83      0.81       174\n",
      "\n",
      "Confusion Matrix is:  [[ 17  25]\n",
      " [  5 127]]\n",
      "\n",
      "\n",
      "\n",
      "The model is:  KNeighborsClassifier()\n",
      "Accuracy score for the training :  0.8287841191066998\n",
      "Accuracy score for the model is:  0.7988505747126436\n",
      "Calssification Report is:                precision    recall  f1-score   support\n",
      "\n",
      "         0.0       0.62      0.43      0.51        42\n",
      "         1.0       0.83      0.92      0.87       132\n",
      "\n",
      "    accuracy                           0.80       174\n",
      "   macro avg       0.73      0.67      0.69       174\n",
      "weighted avg       0.78      0.80      0.79       174\n",
      "\n",
      "Confusion Matrix is:  [[ 18  24]\n",
      " [ 11 121]]\n",
      "\n",
      "\n",
      "\n",
      "The model is:  DecisionTreeClassifier()\n",
      "Accuracy score for the training :  1.0\n",
      "Accuracy score for the model is:  0.7471264367816092\n",
      "Calssification Report is:                precision    recall  f1-score   support\n",
      "\n",
      "         0.0       0.48      0.57      0.52        42\n",
      "         1.0       0.85      0.80      0.83       132\n",
      "\n",
      "    accuracy                           0.75       174\n",
      "   macro avg       0.67      0.69      0.67       174\n",
      "weighted avg       0.76      0.75      0.75       174\n",
      "\n",
      "Confusion Matrix is:  [[ 24  18]\n",
      " [ 26 106]]\n",
      "\n",
      "\n",
      "\n",
      "The model is:  SVC()\n",
      "Accuracy score for the training :  0.8387096774193549\n",
      "Accuracy score for the model is:  0.8103448275862069\n",
      "Calssification Report is:                precision    recall  f1-score   support\n",
      "\n",
      "         0.0       0.68      0.40      0.51        42\n",
      "         1.0       0.83      0.94      0.88       132\n",
      "\n",
      "    accuracy                           0.81       174\n",
      "   macro avg       0.76      0.67      0.70       174\n",
      "weighted avg       0.80      0.81      0.79       174\n",
      "\n",
      "Confusion Matrix is:  [[ 17  25]\n",
      " [  8 124]]\n",
      "\n",
      "\n",
      "\n",
      "The model is:  RandomForestClassifier()\n",
      "Accuracy score for the training :  1.0\n",
      "Accuracy score for the model is:  0.7931034482758621\n",
      "Calssification Report is:                precision    recall  f1-score   support\n",
      "\n",
      "         0.0       0.60      0.43      0.50        42\n",
      "         1.0       0.83      0.91      0.87       132\n",
      "\n",
      "    accuracy                           0.79       174\n",
      "   macro avg       0.72      0.67      0.68       174\n",
      "weighted avg       0.78      0.79      0.78       174\n",
      "\n",
      "Confusion Matrix is:  [[ 18  24]\n",
      " [ 12 120]]\n",
      "\n",
      "\n",
      "\n",
      "The model is:  AdaBoostClassifier()\n",
      "Accuracy score for the training :  0.8535980148883374\n",
      "Accuracy score for the model is:  0.8103448275862069\n",
      "Calssification Report is:                precision    recall  f1-score   support\n",
      "\n",
      "         0.0       0.67      0.43      0.52        42\n",
      "         1.0       0.84      0.93      0.88       132\n",
      "\n",
      "    accuracy                           0.81       174\n",
      "   macro avg       0.75      0.68      0.70       174\n",
      "weighted avg       0.80      0.81      0.79       174\n",
      "\n",
      "Confusion Matrix is:  [[ 18  24]\n",
      " [  9 123]]\n",
      "\n",
      "\n",
      "\n",
      "The model is:  GaussianNB()\n",
      "Accuracy score for the training :  0.8163771712158809\n",
      "Accuracy score for the model is:  0.8218390804597702\n",
      "Calssification Report is:                precision    recall  f1-score   support\n",
      "\n",
      "         0.0       0.74      0.40      0.52        42\n",
      "         1.0       0.83      0.95      0.89       132\n",
      "\n",
      "    accuracy                           0.82       174\n",
      "   macro avg       0.79      0.68      0.71       174\n",
      "weighted avg       0.81      0.82      0.80       174\n",
      "\n",
      "Confusion Matrix is:  [[ 17  25]\n",
      " [  6 126]]\n",
      "\n",
      "\n",
      "\n"
     ]
    }
   ],
   "source": [
    "model=[lr,knc,dtc,svc,rf,ada,gnb]\n",
    "for m in model:\n",
    "    print('The model is: ',m)\n",
    "    m.fit(x_train,y_train)\n",
    "    predict=m.predict(x_test)\n",
    "    pred_train=m.predict(x_train)\n",
    "    print('Accuracy score for the training : ',accuracy_score(y_train,pred_train))\n",
    "    print('Accuracy score for the model is: ',accuracy_score(y_test,predict))\n",
    "    print('Calssification Report is: ',classification_report(y_test,predict))\n",
    "    print('Confusion Matrix is: ',confusion_matrix(y_test,predict))\n",
    "    print('\\n\\n')"
   ]
  },
  {
   "cell_type": "markdown",
   "id": "promising-insider",
   "metadata": {},
   "source": [
    "Cross validation"
   ]
  },
  {
   "cell_type": "code",
   "execution_count": 68,
   "id": "accomplished-twenty",
   "metadata": {},
   "outputs": [
    {
     "name": "stdout",
     "output_type": "stream",
     "text": [
      "The model is: \n",
      " LogisticRegression()\n",
      "At cross fold 2 the cv score is 0.8076400903498655\n",
      "\n",
      "\n",
      "\n",
      "At cross fold 3 the cv score is 0.8145689407023604\n",
      "\n",
      "\n",
      "\n",
      "At cross fold 4 the cv score is 0.8110871647509579\n",
      "\n",
      "\n",
      "\n",
      "At cross fold 5 the cv score is 0.8198200899550224\n",
      "\n",
      "\n",
      "\n",
      "At cross fold 6 the cv score is 0.8179947021764032\n",
      "\n",
      "\n",
      "\n",
      "At cross fold 7 the cv score is 0.8164434742454137\n",
      "\n",
      "\n",
      "\n",
      "At cross fold 8 the cv score is 0.818017503805175\n",
      "\n",
      "\n",
      "\n",
      "At cross fold 9 the cv score is 0.8180288461538461\n",
      "\n",
      "\n",
      "\n",
      "The model is: \n",
      " KNeighborsClassifier()\n",
      "At cross fold 2 the cv score is 0.7885909265667052\n",
      "\n",
      "\n",
      "\n",
      "At cross fold 3 the cv score is 0.7833639176741508\n",
      "\n",
      "\n",
      "\n",
      "At cross fold 4 the cv score is 0.7747126436781608\n",
      "\n",
      "\n",
      "\n",
      "At cross fold 5 the cv score is 0.7851874062968516\n",
      "\n",
      "\n",
      "\n",
      "At cross fold 6 the cv score is 0.779889747995418\n",
      "\n",
      "\n",
      "\n",
      "At cross fold 7 the cv score is 0.7782628772931447\n",
      "\n",
      "\n",
      "\n",
      "At cross fold 8 the cv score is 0.783414193302892\n",
      "\n",
      "\n",
      "\n",
      "At cross fold 9 the cv score is 0.7799679487179487\n",
      "\n",
      "\n",
      "\n",
      "The model is: \n",
      " DecisionTreeClassifier()\n",
      "At cross fold 2 the cv score is 0.7157703767781622\n",
      "\n",
      "\n",
      "\n",
      "At cross fold 3 the cv score is 0.736506908462867\n",
      "\n",
      "\n",
      "\n",
      "At cross fold 4 the cv score is 0.6897629310344827\n",
      "\n",
      "\n",
      "\n",
      "At cross fold 5 the cv score is 0.7262668665667167\n",
      "\n",
      "\n",
      "\n",
      "At cross fold 6 the cv score is 0.7279674971363116\n",
      "\n",
      "\n",
      "\n",
      "At cross fold 7 the cv score is 0.7210024768061795\n",
      "\n",
      "\n",
      "\n",
      "At cross fold 8 the cv score is 0.7054794520547946\n",
      "\n",
      "\n",
      "\n",
      "At cross fold 9 the cv score is 0.7296474358974359\n",
      "\n",
      "\n",
      "\n",
      "The model is: \n",
      " SVC()\n",
      "At cross fold 2 the cv score is 0.8111303344867359\n",
      "\n",
      "\n",
      "\n",
      "At cross fold 3 the cv score is 0.8180321675302245\n",
      "\n",
      "\n",
      "\n",
      "At cross fold 4 the cv score is 0.8197557471264367\n",
      "\n",
      "\n",
      "\n",
      "At cross fold 5 the cv score is 0.8180809595202397\n",
      "\n",
      "\n",
      "\n",
      "At cross fold 6 the cv score is 0.8179768041237114\n",
      "\n",
      "\n",
      "\n",
      "At cross fold 7 the cv score is 0.8181646446412829\n",
      "\n",
      "\n",
      "\n",
      "At cross fold 8 the cv score is 0.818017503805175\n",
      "\n",
      "\n",
      "\n",
      "At cross fold 9 the cv score is 0.8197649572649572\n",
      "\n",
      "\n",
      "\n",
      "The model is: \n",
      " RandomForestClassifier()\n",
      "At cross fold 2 the cv score is 0.7868307862360631\n",
      "\n",
      "\n",
      "\n",
      "At cross fold 3 the cv score is 0.8006800518134715\n",
      "\n",
      "\n",
      "\n",
      "At cross fold 4 the cv score is 0.7972102490421455\n",
      "\n",
      "\n",
      "\n",
      "At cross fold 5 the cv score is 0.8042278860569715\n",
      "\n",
      "\n",
      "\n",
      "At cross fold 6 the cv score is 0.8058419243986253\n",
      "\n",
      "\n",
      "\n",
      "At cross fold 7 the cv score is 0.8042903320599472\n",
      "\n",
      "\n",
      "\n",
      "At cross fold 8 the cv score is 0.7954718417047184\n",
      "\n",
      "\n",
      "\n",
      "At cross fold 9 the cv score is 0.7955128205128205\n",
      "\n",
      "\n",
      "\n",
      "The model is: \n",
      " AdaBoostClassifier()\n",
      "At cross fold 2 the cv score is 0.7694816897347174\n",
      "\n",
      "\n",
      "\n",
      "At cross fold 3 the cv score is 0.7764374640184225\n",
      "\n",
      "\n",
      "\n",
      "At cross fold 4 the cv score is 0.7729885057471264\n",
      "\n",
      "\n",
      "\n",
      "At cross fold 5 the cv score is 0.7886356821589204\n",
      "\n",
      "\n",
      "\n",
      "At cross fold 6 the cv score is 0.7937428407789232\n",
      "\n",
      "\n",
      "\n",
      "At cross fold 7 the cv score is 0.7905209688929935\n",
      "\n",
      "\n",
      "\n",
      "At cross fold 8 the cv score is 0.7920471841704718\n",
      "\n",
      "\n",
      "\n",
      "At cross fold 9 the cv score is 0.8008012820512821\n",
      "\n",
      "\n",
      "\n",
      "The model is: \n",
      " GaussianNB()\n",
      "At cross fold 2 the cv score is 0.8007076605151865\n",
      "\n",
      "\n",
      "\n",
      "At cross fold 3 the cv score is 0.8110967184801381\n",
      "\n",
      "\n",
      "\n",
      "At cross fold 4 the cv score is 0.8110991379310345\n",
      "\n",
      "\n",
      "\n",
      "At cross fold 5 the cv score is 0.8128935532233882\n",
      "\n",
      "\n",
      "\n",
      "At cross fold 6 the cv score is 0.8127684707903781\n",
      "\n",
      "\n",
      "\n",
      "At cross fold 7 the cv score is 0.8130011334536753\n",
      "\n",
      "\n",
      "\n",
      "At cross fold 8 the cv score is 0.8110730593607306\n",
      "\n",
      "\n",
      "\n",
      "At cross fold 9 the cv score is 0.8110844017094017\n",
      "\n",
      "\n",
      "\n"
     ]
    }
   ],
   "source": [
    "from sklearn.model_selection import cross_val_score\n",
    "from sklearn.model_selection import cross_val_predict\n",
    "model = [lr, knc, dtc, svc, rf, ada, gnb]\n",
    "for m in model:\n",
    "    print('The model is: \\n',m)\n",
    "    for j in range (2,10):\n",
    "        train_accuracy = accuracy_score(y_train, pred_train)\n",
    "        test_accuracy = accuracy_score(y_test, predict)\n",
    "        cv_score = cross_val_score(m, x, y, cv = j)\n",
    "        cv_mean = cv_score.mean()\n",
    "        print(f'At cross fold {j} the cv score is {cv_mean}')\n",
    "        print('\\n\\n')"
   ]
  },
  {
   "cell_type": "markdown",
   "id": "streaming-inspection",
   "metadata": {},
   "source": [
    "We see here that LR and SVC, GNB both are performing pretty good and have minimal difference, we will move ahead with GNB"
   ]
  },
  {
   "cell_type": "markdown",
   "id": "harmful-breach",
   "metadata": {},
   "source": [
    "Testing = 82.1\n",
    "\n",
    "\n",
    "Testing at cv 2 is 81.3\n",
    "\n",
    "\n",
    "Training 81.63"
   ]
  },
  {
   "cell_type": "markdown",
   "id": "normal-track",
   "metadata": {},
   "source": [
    "AUC ROC curve."
   ]
  },
  {
   "cell_type": "code",
   "execution_count": 69,
   "id": "japanese-background",
   "metadata": {},
   "outputs": [],
   "source": [
    "from sklearn.metrics import roc_curve,roc_auc_score"
   ]
  },
  {
   "cell_type": "code",
   "execution_count": 70,
   "id": "dependent-radar",
   "metadata": {},
   "outputs": [],
   "source": [
    "y_predprob=gnb.predict_proba(x_test)[:,1]  #[:,1] is used to get the target values which are at 1."
   ]
  },
  {
   "cell_type": "code",
   "execution_count": 71,
   "id": "together-fever",
   "metadata": {},
   "outputs": [],
   "source": [
    "fpr,tpr,thresholds=roc_curve(y_test,y_predprob)"
   ]
  },
  {
   "cell_type": "code",
   "execution_count": 72,
   "id": "corporate-citizenship",
   "metadata": {},
   "outputs": [
    {
     "data": {
      "text/plain": [
       "array([0.        , 0.        , 0.        , 0.02380952, 0.02380952,\n",
       "       0.04761905, 0.04761905, 0.07142857, 0.07142857, 0.0952381 ,\n",
       "       0.0952381 , 0.11904762, 0.11904762, 0.14285714, 0.14285714,\n",
       "       0.16666667, 0.16666667, 0.19047619, 0.19047619, 0.21428571,\n",
       "       0.21428571, 0.23809524, 0.23809524, 0.26190476, 0.26190476,\n",
       "       0.28571429, 0.28571429, 0.30952381, 0.30952381, 0.35714286,\n",
       "       0.35714286, 0.38095238, 0.38095238, 0.4047619 , 0.4047619 ,\n",
       "       0.42857143, 0.42857143, 0.45238095, 0.45238095, 0.47619048,\n",
       "       0.47619048, 0.5       , 0.5       , 0.54761905, 0.54761905,\n",
       "       0.57142857, 0.57142857, 0.5952381 , 0.5952381 , 0.61904762,\n",
       "       0.61904762, 0.76190476, 0.76190476, 0.80952381, 0.80952381,\n",
       "       1.        ])"
      ]
     },
     "execution_count": 72,
     "metadata": {},
     "output_type": "execute_result"
    }
   ],
   "source": [
    "fpr"
   ]
  },
  {
   "cell_type": "code",
   "execution_count": 73,
   "id": "finnish-government",
   "metadata": {},
   "outputs": [
    {
     "data": {
      "text/plain": [
       "array([0.        , 0.00757576, 0.04545455, 0.04545455, 0.06060606,\n",
       "       0.06060606, 0.10606061, 0.10606061, 0.12878788, 0.12878788,\n",
       "       0.15909091, 0.15909091, 0.18939394, 0.18939394, 0.24242424,\n",
       "       0.24242424, 0.28787879, 0.28787879, 0.36363636, 0.36363636,\n",
       "       0.39393939, 0.39393939, 0.40151515, 0.40151515, 0.42424242,\n",
       "       0.42424242, 0.54545455, 0.54545455, 0.56060606, 0.56060606,\n",
       "       0.56818182, 0.56818182, 0.71969697, 0.71969697, 0.77272727,\n",
       "       0.77272727, 0.83333333, 0.83333333, 0.87878788, 0.87878788,\n",
       "       0.88636364, 0.88636364, 0.89393939, 0.89393939, 0.92424242,\n",
       "       0.92424242, 0.93939394, 0.93939394, 0.96969697, 0.96969697,\n",
       "       0.97727273, 0.97727273, 0.99242424, 0.99242424, 1.        ,\n",
       "       1.        ])"
      ]
     },
     "execution_count": 73,
     "metadata": {},
     "output_type": "execute_result"
    }
   ],
   "source": [
    "tpr"
   ]
  },
  {
   "cell_type": "code",
   "execution_count": 74,
   "id": "outstanding-disability",
   "metadata": {},
   "outputs": [
    {
     "data": {
      "text/plain": [
       "array([1.98294847e+00, 9.82948466e-01, 9.77840636e-01, 9.76546202e-01,\n",
       "       9.76059826e-01, 9.75921811e-01, 9.74216261e-01, 9.73725565e-01,\n",
       "       9.72626963e-01, 9.72573015e-01, 9.71783582e-01, 9.71398480e-01,\n",
       "       9.70046200e-01, 9.69533873e-01, 9.67436812e-01, 9.67013649e-01,\n",
       "       9.64059319e-01, 9.63823853e-01, 9.61432616e-01, 9.61166840e-01,\n",
       "       9.59138868e-01, 9.59123092e-01, 9.58935163e-01, 9.58312287e-01,\n",
       "       9.56530656e-01, 9.55224695e-01, 9.46263290e-01, 9.45737441e-01,\n",
       "       9.45544196e-01, 9.44513827e-01, 9.44492836e-01, 9.44320011e-01,\n",
       "       9.29874895e-01, 9.28222569e-01, 9.15805353e-01, 9.12545100e-01,\n",
       "       8.97453213e-01, 8.95888458e-01, 8.53750938e-01, 8.51411376e-01,\n",
       "       8.18213984e-01, 8.11175705e-01, 8.08538457e-01, 7.92603868e-01,\n",
       "       6.98240913e-01, 6.79126189e-01, 6.39777303e-01, 6.26524150e-01,\n",
       "       3.87014708e-03, 3.42123591e-03, 1.28118529e-03, 2.27025467e-18,\n",
       "       2.17186674e-18, 1.79787185e-18, 1.70401074e-18, 4.34940516e-22])"
      ]
     },
     "execution_count": 74,
     "metadata": {},
     "output_type": "execute_result"
    }
   ],
   "source": [
    "thresholds"
   ]
  },
  {
   "cell_type": "code",
   "execution_count": 75,
   "id": "informative-association",
   "metadata": {},
   "outputs": [
    {
     "data": {
      "image/png": "[encoded data removed]",
      "text/plain": [
       "<Figure size 432x288 with 1 Axes>"
      ]
     },
     "metadata": {
      "needs_background": "light"
     },
     "output_type": "display_data"
    }
   ],
   "source": [
    "plt.plot([0,1],[0,1],'k--')\n",
    "plt.plot(fpr,tpr,label='Logistic regression')\n",
    "plt.xlabel('False Positive Rate')\n",
    "plt.ylabel('True Positive Rate')\n",
    "plt.title('Logistic regression')\n",
    "plt.show()"
   ]
  },
  {
   "cell_type": "code",
   "execution_count": 76,
   "id": "irish-municipality",
   "metadata": {},
   "outputs": [],
   "source": [
    "Auc_score=roc_auc_score(y_test,lr.predict(x_test))"
   ]
  },
  {
   "cell_type": "code",
   "execution_count": 77,
   "id": "loving-scheme",
   "metadata": {},
   "outputs": [
    {
     "data": {
      "text/plain": [
       "0.6834415584415585"
      ]
     },
     "execution_count": 77,
     "metadata": {},
     "output_type": "execute_result"
    }
   ],
   "source": [
    "Auc_score"
   ]
  },
  {
   "cell_type": "markdown",
   "id": "starting-spokesman",
   "metadata": {},
   "source": [
    "Its a pretty decent score while predicting on whether to give a customer loan or not."
   ]
  },
  {
   "cell_type": "markdown",
   "id": "connected-oxford",
   "metadata": {},
   "source": [
    "Grid search"
   ]
  },
  {
   "cell_type": "code",
   "execution_count": 78,
   "id": "taken-oracle",
   "metadata": {},
   "outputs": [
    {
     "name": "stdout",
     "output_type": "stream",
     "text": [
      "{'var_smoothing': 0.1873817422860384}\n"
     ]
    }
   ],
   "source": [
    "from sklearn.model_selection import GridSearchCV\n",
    "parameters = {'var_smoothing': np.logspace(0,-9, num=100)}\n",
    "gnb = GaussianNB()\n",
    "gnbcv = GridSearchCV(gnb, parameters)\n",
    "gnbcv.fit(x_train, y_train)\n",
    "\n",
    "print(gnbcv.best_params_)"
   ]
  },
  {
   "cell_type": "code",
   "execution_count": 79,
   "id": "adverse-irish",
   "metadata": {},
   "outputs": [],
   "source": [
    "gnb=GaussianNB(var_smoothing=0.18738174228)"
   ]
  },
  {
   "cell_type": "code",
   "execution_count": 80,
   "id": "southern-jordan",
   "metadata": {},
   "outputs": [
    {
     "data": {
      "text/html": [
       "<div>\n",
       "<style scoped>\n",
       "    .dataframe tbody tr th:only-of-type {\n",
       "        vertical-align: middle;\n",
       "    }\n",
       "\n",
       "    .dataframe tbody tr th {\n",
       "        vertical-align: top;\n",
       "    }\n",
       "\n",
       "    .dataframe thead th {\n",
       "        text-align: right;\n",
       "    }\n",
       "</style>\n",
       "<table border=\"1\" class=\"dataframe\">\n",
       "  <thead>\n",
       "    <tr style=\"text-align: right;\">\n",
       "      <th></th>\n",
       "      <th>0</th>\n",
       "      <th>1</th>\n",
       "      <th>2</th>\n",
       "      <th>3</th>\n",
       "      <th>4</th>\n",
       "      <th>5</th>\n",
       "      <th>6</th>\n",
       "      <th>7</th>\n",
       "      <th>8</th>\n",
       "      <th>9</th>\n",
       "      <th>...</th>\n",
       "      <th>164</th>\n",
       "      <th>165</th>\n",
       "      <th>166</th>\n",
       "      <th>167</th>\n",
       "      <th>168</th>\n",
       "      <th>169</th>\n",
       "      <th>170</th>\n",
       "      <th>171</th>\n",
       "      <th>172</th>\n",
       "      <th>173</th>\n",
       "    </tr>\n",
       "  </thead>\n",
       "  <tbody>\n",
       "    <tr>\n",
       "      <th>Predicted</th>\n",
       "      <td>1.0</td>\n",
       "      <td>1.0</td>\n",
       "      <td>1.0</td>\n",
       "      <td>0.0</td>\n",
       "      <td>1.0</td>\n",
       "      <td>1.0</td>\n",
       "      <td>1.0</td>\n",
       "      <td>1.0</td>\n",
       "      <td>1.0</td>\n",
       "      <td>1.0</td>\n",
       "      <td>...</td>\n",
       "      <td>1.0</td>\n",
       "      <td>0.0</td>\n",
       "      <td>1.0</td>\n",
       "      <td>1.0</td>\n",
       "      <td>1.0</td>\n",
       "      <td>0.0</td>\n",
       "      <td>0.0</td>\n",
       "      <td>1.0</td>\n",
       "      <td>1.0</td>\n",
       "      <td>1.0</td>\n",
       "    </tr>\n",
       "    <tr>\n",
       "      <th>Actual</th>\n",
       "      <td>1.0</td>\n",
       "      <td>1.0</td>\n",
       "      <td>0.0</td>\n",
       "      <td>0.0</td>\n",
       "      <td>0.0</td>\n",
       "      <td>1.0</td>\n",
       "      <td>1.0</td>\n",
       "      <td>1.0</td>\n",
       "      <td>0.0</td>\n",
       "      <td>1.0</td>\n",
       "      <td>...</td>\n",
       "      <td>1.0</td>\n",
       "      <td>1.0</td>\n",
       "      <td>1.0</td>\n",
       "      <td>0.0</td>\n",
       "      <td>0.0</td>\n",
       "      <td>1.0</td>\n",
       "      <td>0.0</td>\n",
       "      <td>1.0</td>\n",
       "      <td>0.0</td>\n",
       "      <td>1.0</td>\n",
       "    </tr>\n",
       "  </tbody>\n",
       "</table>\n",
       "<p>2 rows × 174 columns</p>\n",
       "</div>"
      ],
      "text/plain": [
       "           0    1    2    3    4    5    6    7    8    9    ...  164  165  \\\n",
       "Predicted  1.0  1.0  1.0  0.0  1.0  1.0  1.0  1.0  1.0  1.0  ...  1.0  0.0   \n",
       "Actual     1.0  1.0  0.0  0.0  0.0  1.0  1.0  1.0  0.0  1.0  ...  1.0  1.0   \n",
       "\n",
       "           166  167  168  169  170  171  172  173  \n",
       "Predicted  1.0  1.0  1.0  0.0  0.0  1.0  1.0  1.0  \n",
       "Actual     1.0  0.0  0.0  1.0  0.0  1.0  0.0  1.0  \n",
       "\n",
       "[2 rows x 174 columns]"
      ]
     },
     "execution_count": 80,
     "metadata": {},
     "output_type": "execute_result"
    }
   ],
   "source": [
    "gnb.fit(x_train, y_train)\n",
    "gnb.score(x_train, y_train)\n",
    "predgnb = gnb.predict(x_test)\n",
    "data = [predgnb, y_test]\n",
    "pd.DataFrame(data, index = ['Predicted', 'Actual'])"
   ]
  },
  {
   "cell_type": "code",
   "execution_count": 81,
   "id": "awful-cooperative",
   "metadata": {},
   "outputs": [
    {
     "name": "stdout",
     "output_type": "stream",
     "text": [
      "Errors:\n",
      "\n",
      "\n",
      "Accuracy score for the training :  0.8163771712158809\n",
      "Accuracy score for the model is:  0.8218390804597702\n",
      "Calssification Report is:                precision    recall  f1-score   support\n",
      "\n",
      "         0.0       0.74      0.40      0.52        42\n",
      "         1.0       0.83      0.95      0.89       132\n",
      "\n",
      "    accuracy                           0.82       174\n",
      "   macro avg       0.79      0.68      0.71       174\n",
      "weighted avg       0.81      0.82      0.80       174\n",
      "\n",
      "Confusion Matrix is:  [[ 17  25]\n",
      " [  6 126]]\n",
      "\n",
      "\n",
      "\n"
     ]
    }
   ],
   "source": [
    "print('Errors:')\n",
    "print('\\n')\n",
    "print('Accuracy score for the training : ',accuracy_score(y_train,pred_train))\n",
    "print('Accuracy score for the model is: ',accuracy_score(y_test,predict))\n",
    "print('Calssification Report is: ',classification_report(y_test,predict))\n",
    "print('Confusion Matrix is: ',confusion_matrix(y_test,predict))\n",
    "print('\\n\\n')"
   ]
  },
  {
   "cell_type": "code",
   "execution_count": 82,
   "id": "emotional-longer",
   "metadata": {},
   "outputs": [
    {
     "data": {
      "text/plain": [
       "['loangnb.obj']"
      ]
     },
     "execution_count": 82,
     "metadata": {},
     "output_type": "execute_result"
    }
   ],
   "source": [
    "joblib.dump(lr, 'loangnb.obj')"
   ]
  },
  {
   "cell_type": "code",
   "execution_count": null,
   "id": "adequate-cleveland",
   "metadata": {},
   "outputs": [],
   "source": []
  }
 ],
 "metadata": {
  "kernelspec": {
   "display_name": "Python 3",
   "language": "python",
   "name": "python3"
  },
  "language_info": {
   "codemirror_mode": {
    "name": "ipython",
    "version": 3
   },
   "file_extension": ".py",
   "mimetype": "text/x-python",
   "name": "python",
   "nbconvert_exporter": "python",
   "pygments_lexer": "ipython3",
   "version": "3.8.3"
  }
 },
 "nbformat": 4,
 "nbformat_minor": 5
}
